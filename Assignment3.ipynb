{
 "cells": [
  {
   "cell_type": "markdown",
   "metadata": {},
   "source": [
    "## Assignment 3: Web Scraping\n",
    "\n",
    "For this assignment, you are required to scrape data from e-commerce or other websites such as [Lelong](http://www.lelong.com.my), [Lazada](http://www.lazada.com.my/), [Mudah](http://www.mudah.my/), [iProperty](https://www.iproperty.com.my/), [Booking](http://www.booking.com), [Expedia](https://www.expedia.com.my/) etc.\n",
    "\n",
    "You are required to fork this Jupyter Notebook from my Github [here](https://github.com/kuanhoong/EDS-Assignment3 ) and then scrape the latest 1000 items from one of the website mentioned above. The scraped data should include:\n",
    "\n",
    "* Product Name/Product Title\n",
    "* Amount/Price\n",
    "* Brand\n",
    "* Comments/Reviews\n",
    "* Number of views\n",
    "\n",
    "In addition, you are required to export the scraped data to dataframe format and also save a copy in csv format. Upon successful extracting data to dataframe, you are required to do a data analysis on the data. \n",
    "\n",
    "Your analysis should provide answers to the following questions:\n",
    "* What do you think is interesting about this data? Tell a story about some interesting thing you have discovered by looking at the data.\n",
    "* Visualize your data with matplotlib or with folium library package.\n",
    "\n",
    "For example, you might consider whether there is a difference in pricings at different times doing the day or city, or whether other factors that influnced the pricings etc. Another thing you might consider is whether there is a relationship between the pricing and number of reviews or comments.\n",
    "\n",
    "Show your analysis workflow in your Jupyter notebook.\n",
    "\n",
    "The final submission should be pushed back to your respective Github account."
   ]
  },
  {
   "cell_type": "markdown",
   "metadata": {},
   "source": [
    "### Folium\n",
    "\n",
    "[Folium](https://github.com/python-visualization/folium) makes it easy to visualize data that's been manipulated in Python on an interactive Leaflet map. It enables both the binding of data to a map for choropleth visualizations as well as passing Vincent/Vega visualizations as markers on the map."
   ]
  },
  {
   "cell_type": "code",
   "execution_count": 1,
   "metadata": {
    "collapsed": true
   },
   "outputs": [],
   "source": [
    "import pandas as pd\n",
    "import re\n",
    "import numpy as np\n",
    "import folium\n",
    "import matplotlib.pyplot as plt\n",
    "%matplotlib inline\n",
    "from bs4 import BeautifulSoup\n",
    "import requests"
   ]
  },
  {
   "cell_type": "code",
   "execution_count": null,
   "metadata": {},
   "outputs": [],
   "source": [
    "mapit = None\n",
    "latlon = [ (3.144473, 101.708722), (3.144473, 101.708722),(3.135732, 101.686989),(2.992861, 101.792900)]\n",
    "for coord in latlon:\n",
    "    mapit = folium.Map( location=[ coord[0], coord[1] ] )\n",
    "    folium.Marker([3.144473, 101.708722], icon=folium.Icon(color='blue',icon='star'), popup='Federal Hotel').add_to(mapit)\n",
    "    folium.Marker([3.156374, 101.714579], icon=folium.Icon(color='green',icon='info-sign') , popup='Mandarin Oriental').add_to(mapit)\n",
    "    folium.Marker([3.135732, 101.686989], icon=folium.Icon(color='red',icon='star') , popup='Le Meridien').add_to(mapit)\n",
    "    folium.Marker([2.992861, 101.792900], icon=folium.Icon(color='red',icon='info-sign') , popup='Hospital Kajang').add_to(mapit)\n",
    "mapit"
   ]
  },
  {
   "cell_type": "code",
   "execution_count": null,
   "metadata": {},
   "outputs": [],
   "source": [
    "from geopy.geocoders import Nominatim\n",
    "geolocator = Nominatim()\n",
    "location = geolocator.geocode('Hospital Kajang')\n",
    "print(location.address)\n",
    "print((location.latitude,location.longitude))"
   ]
  },
  {
   "cell_type": "code",
   "execution_count": null,
   "metadata": {},
   "outputs": [],
   "source": [
    "# scrape from lelong\n",
    "\n",
    "# find the pattern for the first page\n",
    "url = 'https://www.lelong.com.my/catalog/all/list?TheKeyword=ipad+pro&D='\n",
    "\n",
    "# write a loop to scrape from page 1 to the last page\n",
    "\n",
    "product_name=[]\n",
    "price=[]\n",
    "for page in range(1,2): # 8 pages, 9 not included, always test on 2 first\n",
    "    url_page = url+str(page)\n",
    "    #print(url_page) # check if get correct address\n",
    "    scrape = requests.get(url_page)\n",
    "    soup = BeautifulSoup(scrape.content, 'lxml')\n",
    "    #print(soup)\n",
    "    link = soup.find_all('div',{'class':'item','class':'summary'})\n",
    "    link1= soup.find_all('div',{'class':'col total'})\n",
    "    #print(link) \n",
    "    length = len(link) #got 60 items\n",
    "    #print(length) #for every link, i am going to look for th product name\n",
    "    #print(link[0]) #write a for loop to get all the name from this\n",
    "    for i in range(0,length): #0-59 got 60 item\n",
    "        name = link[i].a.get('title')\n",
    "        prices = link1[i].b.string\n",
    "        product_name.append(name)\n",
    "        price.append(prices) #create a list and add to it\n",
    "        \n",
    "price"
   ]
  },
  {
   "cell_type": "code",
   "execution_count": null,
   "metadata": {
    "collapsed": true
   },
   "outputs": [],
   "source": [
    "# write to csv\n",
    "# convert the list to a pandas dataframe\n",
    "\n",
    "df = pd.DataFrame({'name':product_name, 'price':price})\n",
    "df['price']= df['price'].str.replace('RM ','')\n",
    "df.to_csv('output.csv', index=False)\n",
    "\n"
   ]
  },
  {
   "cell_type": "code",
   "execution_count": 2,
   "metadata": {},
   "outputs": [],
   "source": [
    "#Garrick\n",
    "\n",
    "# scrape from lelong\n",
    "\n",
    "#PowerBank Price according to sellers from KL\n",
    "\n",
    "url = 'https://www.lelong.com.my/catalog/all/list/?TheKeyword=power+bank&StateID=1&D='\n",
    "\n",
    "name=[]\n",
    "price=[]\n",
    "seller=[]\n",
    "view=[]\n",
    "sold= []\n",
    "\n",
    "\n",
    "for page in range(1,23): \n",
    "    url_page = url+str(page)\n",
    "    scrape = requests.get(url_page)\n",
    "    soup = BeautifulSoup(scrape.content, 'lxml')\n",
    "    link = soup.find_all('div',{'class':'item','class':'summary'})\n",
    "    link1= soup.find_all('div',{'class':'col total'})\n",
    "    #link2= soup.find_all('div',{'class':'seller inline-block'})\n",
    "    link3= soup.find_all('span',{'class':'hit fontsize12'})\n",
    "    link4= soup.find_all('div',{'class':'pic-box'})\n",
    "    length = len(link) \n",
    "    \n",
    "    for i in range(0,length): \n",
    "        names = link[i].a.get('title')\n",
    "        prices = link1[i].b.string\n",
    "        if(link[i].find('div',class_=\"seller inline-block\") is None):\n",
    "            seller.append('NoName')\n",
    "        else:\n",
    "            seller.append(link[i].find('div',class_=\"seller inline-block\").span.a.get_text())  \n",
    "        views= link3[i].string\n",
    "        name.append(names)\n",
    "        price.append(prices) \n",
    "        view.append(views)\n",
    "        if(link4[i].find('span',class_=\"list-sold\") is None):\n",
    "            sold.append('0')\n",
    "        else:\n",
    "            sold.append(link4[i].get_text())\n"
   ]
  },
  {
   "cell_type": "code",
   "execution_count": 3,
   "metadata": {},
   "outputs": [],
   "source": [
    "#Save to CSV\n",
    "\n",
    "df = pd.DataFrame({'name':name, 'price':price, 'seller':seller, 'view':view, 'sold':sold})\n",
    "#Clean Price\n",
    "df['price']= df['price'].str.replace('RM ','')\n",
    "#Clean View\n",
    "df['view']=df['view'].str.replace(r\"\\(*\",\"\")\n",
    "df['view']=df['view'].str.replace(r\"\\)*\",\"\")\n",
    "df['view']=df['view'].str.replace('\\r\\n','')\n",
    "df['view']=df['view'].str.replace(' ','')\n",
    "df['view']=df['view'].str.replace('View','')\n",
    "#Clean Sold\n",
    "df['sold']=df['sold'].str.replace('\\n','')\n",
    "df['sold']=df['sold'].str.replace(' ','')\n",
    "df['sold']=df['sold'].str.replace('Sold','')\n",
    "df.price = df.price.astype(float)\n",
    "df.view = df.view.astype(int)\n",
    "df.sold = df.sold.astype(int)\n",
    "df.price.replace('0', np.nan)\n",
    "\n",
    "df.to_csv('power.csv', index=False)"
   ]
  },
  {
   "cell_type": "code",
   "execution_count": 4,
   "metadata": {},
   "outputs": [
    {
     "name": "stdout",
     "output_type": "stream",
     "text": [
      "Total Seller\n",
      "1281\n",
      "\n",
      "Seller Names\n",
      "['OneApple ' 'MMSRetail ' 'thengst ' 'ecuberetail ' 'unipro '\n",
      " 'eMonsterDigital ' 'mmsretails01 ' 'xsoho ' 'eBestSeller ' 'chriss79 '\n",
      " 'limgrouptrading ' 'tybluetech ' 'chocobozz ' 'tetrahedron ' 'ecgrab '\n",
      " 'WapInTeleshop ' 'dcswebstore ' 'Chocobozz ' 'winsonyap86 ' 'borongstore '\n",
      " 'xmmx ' 'MoreVision ' 'borong2u ' 'kwingcollection ' 'ONAKMOBILE '\n",
      " 'Dprovider ' 'hypetech ' 'JustbuyMalaysia ' 'Hello2U ' 'myipmart '\n",
      " '2by2mobile ' 'GBonline ' 'BananaMilkC ' 'lemonbread ' 'alerisx '\n",
      " 'cwchoo85 ' 'castleIT ' 'addonliving ' 'FotoShangriLa ' 'kys_auto '\n",
      " 'LittleatSasa ' 'myitcomputer ' 'movegift ' 'bee ' 'QineticLife '\n",
      " 'DigitalsMania ' 'ladivafestiva ' 'linguine827 ' 'rhythm6 '\n",
      " 'myeasygadget ' 'crazyboy7777 ' 'zoeempire ' 'mygameshop '\n",
      " 'vkmobilegadget ' 'cmnmobile ' 'gadgetbin ' 'lay1211 ' 'dashermart '\n",
      " 'verykeat ' 'Dfaro ' 'AutoFans ' 'atostore ' 'infinityelink ' 'cavarii '\n",
      " 'SMARTSS ' 'gadgetzone6 ' 'jayacom ' 'Flashtrend ' '1StopDeal ' 'lover88 '\n",
      " 'jenny335500 ' 'mobilegeargadget ' 'NoName' 'NanHuaETech ' 'marcusee '\n",
      " 'Jayacom ' 'ebosses ' 'SatuGadgetDotCom ' 'hubbyhoneyworld '\n",
      " 'GPBatteries Official Store' 'iphonecase ' 'unicornbiz ' 'MyMobius '\n",
      " 'bagstation ' 'AlwaysLowPrices ' 'wesave ' 'prizedgoods ' 'PcPlanet '\n",
      " 'GofutureGadget ' 'truegamers ' 'DelphinusGifts ' 'supermumbaby '\n",
      " 'benben001 ' 'zackpremier ' 'pctmarketing ' 'ginnieooi ' 'TradeOnline '\n",
      " 'Multitrader ' 'darenthee ' 'wechatphone ' 'BrightstarOnline '\n",
      " 'NCreativeHouse ' '5151WORNALL ' 'STAR_ICON ' 'MyShop8 ' 'GPbatstore '\n",
      " 'fastlite ' 'Me2You88 ' 'nkloong08 ' 'MountOn ' 'gamehypermart ' 'buy1st '\n",
      " 'zidiamarketing ' 'qbmall ' 'speedysend ' 'yourchoice1923 ' 'Summerbuy '\n",
      " 'jftime ' '12volts ' 'Aurous ' 'MaxAudio ' 'GoBorong ' 'Store7teen '\n",
      " 'asiacommsales ' 'bespecialtou ' 'maisondeluxe ' 'chewhoung ' 'dvinez '\n",
      " 'uuonline ' 'vknowsystems ' 'best4u99 ' 'DasherPlus ' 'ESONOW '\n",
      " 'pinnosea ' 'Unitions ' 'SECCSTORE ' 'momogenki ' 'munhoo ' 'louis230972 '\n",
      " 'puslisi ' 'mobile2go ']\n",
      "\n",
      "Total Unique Seller\n",
      "141\n",
      "\n"
     ]
    }
   ],
   "source": [
    "#Seller Information\n",
    "print('Total Seller')\n",
    "print(df.seller.count())\n",
    "print()\n",
    "\n",
    "print('Seller Names')\n",
    "print(df.seller.unique())\n",
    "print()\n",
    "\n",
    "print('Total Unique Seller')\n",
    "print(len(df.seller.unique()))\n",
    "print()\n"
   ]
  },
  {
   "cell_type": "code",
   "execution_count": 5,
   "metadata": {},
   "outputs": [
    {
     "name": "stdout",
     "output_type": "stream",
     "text": [
      "castleIT             147\n",
      "SMARTSS               98\n",
      "chocobozz             83\n",
      "borongstore           64\n",
      "myeasygadget          59\n",
      "cmnmobile             52\n",
      "NoName                45\n",
      "ONAKMOBILE            36\n",
      "movegift              36\n",
      "wesave                30\n",
      "JustbuyMalaysia       29\n",
      "myipmart              24\n",
      "ginnieooi             23\n",
      "MyMobius              22\n",
      "xsoho                 21\n",
      "infinityelink         18\n",
      "tetrahedron           18\n",
      "BananaMilkC           16\n",
      "ecuberetail           15\n",
      "MMSRetail             15\n",
      "dashermart            14\n",
      "winsonyap86           13\n",
      "darenthee             12\n",
      "speedysend            12\n",
      "eMonsterDigital       11\n",
      "atostore              11\n",
      "unipro                11\n",
      "FotoShangriLa         11\n",
      "Flashtrend            11\n",
      "gadgetzone6            9\n",
      "                    ... \n",
      "bagstation             1\n",
      "maisondeluxe           1\n",
      "truegamers             1\n",
      "cavarii                1\n",
      "SatuGadgetDotCom       1\n",
      "nkloong08              1\n",
      "louis230972            1\n",
      "DelphinusGifts         1\n",
      "benben001              1\n",
      "NCreativeHouse         1\n",
      "ebosses                1\n",
      "Unitions               1\n",
      "MoreVision             1\n",
      "addonliving            1\n",
      "ladivafestiva          1\n",
      "2by2mobile             1\n",
      "linguine827            1\n",
      "Aurous                 1\n",
      "OneApple               1\n",
      "dvinez                 1\n",
      "AutoFans               1\n",
      "fastlite               1\n",
      "zidiamarketing         1\n",
      "alerisx                1\n",
      "MaxAudio               1\n",
      "bespecialtou           1\n",
      "buy1st                 1\n",
      "QineticLife            1\n",
      "kys_auto               1\n",
      "Me2You88               1\n",
      "Name: seller, Length: 141, dtype: int64\n"
     ]
    }
   ],
   "source": [
    "#Seller Sales Post Count\n",
    "print(df['seller'].value_counts())\n"
   ]
  },
  {
   "cell_type": "code",
   "execution_count": 6,
   "metadata": {},
   "outputs": [
    {
     "data": {
      "image/png": "[encoded data removed]",
      "text/plain": [
       "<matplotlib.figure.Figure at 0x25247f0f6a0>"
      ]
     },
     "metadata": {},
     "output_type": "display_data"
    }
   ],
   "source": [
    "df['seller'].value_counts().head(5).plot();"
   ]
  },
  {
   "cell_type": "code",
   "execution_count": 7,
   "metadata": {},
   "outputs": [
    {
     "data": {
      "text/plain": [
       "seller             price \n",
       "12volts            115.54    1\n",
       "                   252.28    2\n",
       "                   253.34    1\n",
       "1StopDeal          44.90     1\n",
       "                   79.90     1\n",
       "                   85.90     1\n",
       "2by2mobile         85.00     1\n",
       "5151WORNALL        2.40      1\n",
       "                   23.00     1\n",
       "                   25.00     1\n",
       "                   38.00     1\n",
       "AlwaysLowPrices    49.00     4\n",
       "Aurous             199.00    1\n",
       "AutoFans           480.00    1\n",
       "BananaMilkC        36.00     1\n",
       "                   44.90     1\n",
       "                   45.00     5\n",
       "                   46.00     2\n",
       "                   48.00     1\n",
       "                   60.00     1\n",
       "                   65.00     1\n",
       "                   109.00    1\n",
       "                   129.00    1\n",
       "                   149.00    1\n",
       "                   229.00    1\n",
       "BrightstarOnline   67.00     1\n",
       "                   82.00     1\n",
       "                   86.00     1\n",
       "                   91.00     1\n",
       "Chocobozz          40.28     1\n",
       "                            ..\n",
       "xsoho              55.00     1\n",
       "                   58.00     1\n",
       "                   59.00     1\n",
       "                   60.00     1\n",
       "                   61.00     3\n",
       "                   69.00     1\n",
       "                   70.00     1\n",
       "                   80.00     1\n",
       "                   84.00     1\n",
       "                   85.00     1\n",
       "                   87.00     1\n",
       "                   89.00     2\n",
       "                   95.00     1\n",
       "                   109.00    1\n",
       "yourchoice1923     85.90     1\n",
       "                   108.90    1\n",
       "zackpremier        52.90     1\n",
       "                   57.00     1\n",
       "                   65.90     1\n",
       "                   78.00     1\n",
       "                   88.00     1\n",
       "                   220.00    1\n",
       "                   265.00    1\n",
       "                   290.00    1\n",
       "zidiamarketing     2.99      1\n",
       "zoeempire          31.00     1\n",
       "                   33.00     1\n",
       "                   41.00     2\n",
       "                   45.00     1\n",
       "                   55.00     1\n",
       "Name: sold, Length: 813, dtype: int64"
      ]
     },
     "execution_count": 7,
     "metadata": {},
     "output_type": "execute_result"
    }
   ],
   "source": [
    "df.groupby(['seller', 'price'])['sold'].count()"
   ]
  },
  {
   "cell_type": "code",
   "execution_count": 8,
   "metadata": {},
   "outputs": [
    {
     "data": {
      "text/html": [
       "<div>\n",
       "<style>\n",
       "    .dataframe thead tr:only-child th {\n",
       "        text-align: right;\n",
       "    }\n",
       "\n",
       "    .dataframe thead th {\n",
       "        text-align: left;\n",
       "    }\n",
       "\n",
       "    .dataframe tbody tr th {\n",
       "        vertical-align: top;\n",
       "    }\n",
       "</style>\n",
       "<table border=\"1\" class=\"dataframe\">\n",
       "  <thead>\n",
       "    <tr style=\"text-align: right;\">\n",
       "      <th></th>\n",
       "      <th>price</th>\n",
       "      <th>view</th>\n",
       "      <th>sold</th>\n",
       "    </tr>\n",
       "  </thead>\n",
       "  <tbody>\n",
       "    <tr>\n",
       "      <th>count</th>\n",
       "      <td>1281.000000</td>\n",
       "      <td>1281.000000</td>\n",
       "      <td>1281.000000</td>\n",
       "    </tr>\n",
       "    <tr>\n",
       "      <th>mean</th>\n",
       "      <td>105.139157</td>\n",
       "      <td>678.629196</td>\n",
       "      <td>6.173302</td>\n",
       "    </tr>\n",
       "    <tr>\n",
       "      <th>std</th>\n",
       "      <td>70.949316</td>\n",
       "      <td>2264.013995</td>\n",
       "      <td>55.580780</td>\n",
       "    </tr>\n",
       "    <tr>\n",
       "      <th>min</th>\n",
       "      <td>0.000000</td>\n",
       "      <td>0.000000</td>\n",
       "      <td>0.000000</td>\n",
       "    </tr>\n",
       "    <tr>\n",
       "      <th>25%</th>\n",
       "      <td>58.800000</td>\n",
       "      <td>59.000000</td>\n",
       "      <td>0.000000</td>\n",
       "    </tr>\n",
       "    <tr>\n",
       "      <th>50%</th>\n",
       "      <td>85.000000</td>\n",
       "      <td>145.000000</td>\n",
       "      <td>0.000000</td>\n",
       "    </tr>\n",
       "    <tr>\n",
       "      <th>75%</th>\n",
       "      <td>129.300000</td>\n",
       "      <td>436.000000</td>\n",
       "      <td>0.000000</td>\n",
       "    </tr>\n",
       "    <tr>\n",
       "      <th>max</th>\n",
       "      <td>581.940000</td>\n",
       "      <td>30192.000000</td>\n",
       "      <td>1723.000000</td>\n",
       "    </tr>\n",
       "  </tbody>\n",
       "</table>\n",
       "</div>"
      ],
      "text/plain": [
       "             price          view         sold\n",
       "count  1281.000000   1281.000000  1281.000000\n",
       "mean    105.139157    678.629196     6.173302\n",
       "std      70.949316   2264.013995    55.580780\n",
       "min       0.000000      0.000000     0.000000\n",
       "25%      58.800000     59.000000     0.000000\n",
       "50%      85.000000    145.000000     0.000000\n",
       "75%     129.300000    436.000000     0.000000\n",
       "max     581.940000  30192.000000  1723.000000"
      ]
     },
     "execution_count": 8,
     "metadata": {},
     "output_type": "execute_result"
    }
   ],
   "source": [
    "df.loc[:,['price','view','sold']].describe()"
   ]
  },
  {
   "cell_type": "code",
   "execution_count": 9,
   "metadata": {},
   "outputs": [
    {
     "data": {
      "text/html": [
       "<div>\n",
       "<style>\n",
       "    .dataframe thead tr:only-child th {\n",
       "        text-align: right;\n",
       "    }\n",
       "\n",
       "    .dataframe thead th {\n",
       "        text-align: left;\n",
       "    }\n",
       "\n",
       "    .dataframe tbody tr th {\n",
       "        vertical-align: top;\n",
       "    }\n",
       "</style>\n",
       "<table border=\"1\" class=\"dataframe\">\n",
       "  <thead>\n",
       "    <tr style=\"text-align: right;\">\n",
       "      <th></th>\n",
       "      <th>name</th>\n",
       "      <th>price</th>\n",
       "      <th>seller</th>\n",
       "      <th>sold</th>\n",
       "      <th>view</th>\n",
       "    </tr>\n",
       "  </thead>\n",
       "  <tbody>\n",
       "    <tr>\n",
       "      <th>1</th>\n",
       "      <td>100% Original Pineng Powerbank Pn969 Pn-969 20...</td>\n",
       "      <td>68.0</td>\n",
       "      <td>MMSRetail</td>\n",
       "      <td>29</td>\n",
       "      <td>30192</td>\n",
       "    </tr>\n",
       "    <tr>\n",
       "      <th>1211</th>\n",
       "      <td>STOCK CLEARANCE PROMOTION !!!! YOOBAO POWER BA...</td>\n",
       "      <td>25.0</td>\n",
       "      <td>infinityelink</td>\n",
       "      <td>216</td>\n",
       "      <td>30170</td>\n",
       "    </tr>\n",
       "    <tr>\n",
       "      <th>1195</th>\n",
       "      <td>ORIGINAL PINENG 20000MAH PN-999 POWER BANK</td>\n",
       "      <td>73.0</td>\n",
       "      <td>MyShop8</td>\n",
       "      <td>94</td>\n",
       "      <td>30042</td>\n",
       "    </tr>\n",
       "    <tr>\n",
       "      <th>383</th>\n",
       "      <td>PINENG 10000mAh PN968 Power Bank 100% Original...</td>\n",
       "      <td>54.0</td>\n",
       "      <td>dashermart</td>\n",
       "      <td>1723</td>\n",
       "      <td>30014</td>\n",
       "    </tr>\n",
       "    <tr>\n",
       "      <th>1230</th>\n",
       "      <td>[Buy1Free1]Super Slim Aluminium Polymer Power ...</td>\n",
       "      <td>99.0</td>\n",
       "      <td>GoBorong</td>\n",
       "      <td>228</td>\n",
       "      <td>16879</td>\n",
       "    </tr>\n",
       "  </tbody>\n",
       "</table>\n",
       "</div>"
      ],
      "text/plain": [
       "                                                   name  price  \\\n",
       "1     100% Original Pineng Powerbank Pn969 Pn-969 20...   68.0   \n",
       "1211  STOCK CLEARANCE PROMOTION !!!! YOOBAO POWER BA...   25.0   \n",
       "1195         ORIGINAL PINENG 20000MAH PN-999 POWER BANK   73.0   \n",
       "383   PINENG 10000mAh PN968 Power Bank 100% Original...   54.0   \n",
       "1230  [Buy1Free1]Super Slim Aluminium Polymer Power ...   99.0   \n",
       "\n",
       "              seller  sold   view  \n",
       "1         MMSRetail     29  30192  \n",
       "1211  infinityelink    216  30170  \n",
       "1195        MyShop8     94  30042  \n",
       "383      dashermart   1723  30014  \n",
       "1230       GoBorong    228  16879  "
      ]
     },
     "execution_count": 9,
     "metadata": {},
     "output_type": "execute_result"
    }
   ],
   "source": [
    "#Top 5 Viewed\n",
    "df.sort_values('view', ascending=False).head()"
   ]
  },
  {
   "cell_type": "code",
   "execution_count": 10,
   "metadata": {},
   "outputs": [
    {
     "data": {
      "text/html": [
       "<div>\n",
       "<style>\n",
       "    .dataframe thead tr:only-child th {\n",
       "        text-align: right;\n",
       "    }\n",
       "\n",
       "    .dataframe thead th {\n",
       "        text-align: left;\n",
       "    }\n",
       "\n",
       "    .dataframe tbody tr th {\n",
       "        vertical-align: top;\n",
       "    }\n",
       "</style>\n",
       "<table border=\"1\" class=\"dataframe\">\n",
       "  <thead>\n",
       "    <tr style=\"text-align: right;\">\n",
       "      <th></th>\n",
       "      <th>name</th>\n",
       "      <th>price</th>\n",
       "      <th>seller</th>\n",
       "      <th>sold</th>\n",
       "      <th>view</th>\n",
       "    </tr>\n",
       "  </thead>\n",
       "  <tbody>\n",
       "    <tr>\n",
       "      <th>383</th>\n",
       "      <td>PINENG 10000mAh PN968 Power Bank 100% Original...</td>\n",
       "      <td>54.00</td>\n",
       "      <td>dashermart</td>\n",
       "      <td>1723</td>\n",
       "      <td>30014</td>\n",
       "    </tr>\n",
       "    <tr>\n",
       "      <th>1155</th>\n",
       "      <td>Xiaomi 5000/10400/10000/16000mAh Power Bank Si...</td>\n",
       "      <td>2.99</td>\n",
       "      <td>Store7teen</td>\n",
       "      <td>520</td>\n",
       "      <td>4874</td>\n",
       "    </tr>\n",
       "    <tr>\n",
       "      <th>424</th>\n",
       "      <td>100% Genuine REMAX 6000mAh Super alloy Dual US...</td>\n",
       "      <td>85.90</td>\n",
       "      <td>1StopDeal</td>\n",
       "      <td>339</td>\n",
       "      <td>1557</td>\n",
       "    </tr>\n",
       "    <tr>\n",
       "      <th>9</th>\n",
       "      <td>100% ORIGINAL PINENG POWERBANK POWER BANK PN95...</td>\n",
       "      <td>34.00</td>\n",
       "      <td>MMSRetail</td>\n",
       "      <td>265</td>\n",
       "      <td>14844</td>\n",
       "    </tr>\n",
       "    <tr>\n",
       "      <th>8</th>\n",
       "      <td>Original Mi Ver 2 PowerBank XiaoMi 10000mAh Ve...</td>\n",
       "      <td>64.00</td>\n",
       "      <td>MMSRetail</td>\n",
       "      <td>252</td>\n",
       "      <td>9783</td>\n",
       "    </tr>\n",
       "  </tbody>\n",
       "</table>\n",
       "</div>"
      ],
      "text/plain": [
       "                                                   name  price       seller  \\\n",
       "383   PINENG 10000mAh PN968 Power Bank 100% Original...  54.00  dashermart    \n",
       "1155  Xiaomi 5000/10400/10000/16000mAh Power Bank Si...   2.99  Store7teen    \n",
       "424   100% Genuine REMAX 6000mAh Super alloy Dual US...  85.90   1StopDeal    \n",
       "9     100% ORIGINAL PINENG POWERBANK POWER BANK PN95...  34.00   MMSRetail    \n",
       "8     Original Mi Ver 2 PowerBank XiaoMi 10000mAh Ve...  64.00   MMSRetail    \n",
       "\n",
       "      sold   view  \n",
       "383   1723  30014  \n",
       "1155   520   4874  \n",
       "424    339   1557  \n",
       "9      265  14844  \n",
       "8      252   9783  "
      ]
     },
     "execution_count": 10,
     "metadata": {},
     "output_type": "execute_result"
    }
   ],
   "source": [
    "#Top 5 Purchased\n",
    "df.sort_values('sold', ascending=False).head()"
   ]
  },
  {
   "cell_type": "code",
   "execution_count": 11,
   "metadata": {},
   "outputs": [
    {
     "data": {
      "text/plain": [
       "105.13915690866486"
      ]
     },
     "execution_count": 11,
     "metadata": {},
     "output_type": "execute_result"
    },
    {
     "data": {
      "image/png": "[encoded data removed]",
      "text/plain": [
       "<matplotlib.figure.Figure at 0x2524ea68f28>"
      ]
     },
     "metadata": {},
     "output_type": "display_data"
    }
   ],
   "source": [
    "fig, ax = plt.subplots(figsize=(12,4))\n",
    "x = df.price\n",
    "plt.hist(x, facecolor='blue')\n",
    "plt.xlabel('Prices in RM')\n",
    "plt.ylabel('Frequency')\n",
    "plt.title('Prices of PowerBank in Lelong')\n",
    "\n",
    "#Can see the Price is around RM105\n",
    "df.price.mean()"
   ]
  },
  {
   "cell_type": "code",
   "execution_count": 12,
   "metadata": {},
   "outputs": [
    {
     "data": {
      "image/png": "[encoded data removed]",
      "text/plain": [
       "<matplotlib.figure.Figure at 0x2524eb26b00>"
      ]
     },
     "metadata": {},
     "output_type": "display_data"
    }
   ],
   "source": [
    "fig, axes = plt.subplots(figsize=(10,4), dpi=100)\n",
    "x=df.price\n",
    "y=df.view\n",
    "\n",
    "axes.scatter(x,y,color='r')\n",
    "axes.set_title(\"PowerBank: View vs Prices\")\n",
    "axes.set_xlabel(\"Prices in RM\")\n",
    "axes.set_ylabel(\"View\");\n",
    "\n",
    "#More views below RM200"
   ]
  },
  {
   "cell_type": "code",
   "execution_count": 13,
   "metadata": {},
   "outputs": [
    {
     "data": {
      "text/plain": [
       "(0, 1000)"
      ]
     },
     "execution_count": 13,
     "metadata": {},
     "output_type": "execute_result"
    },
    {
     "data": {
      "image/png": "[encoded data removed]",
      "text/plain": [
       "<matplotlib.figure.Figure at 0x2524ebbd4a8>"
      ]
     },
     "metadata": {},
     "output_type": "display_data"
    }
   ],
   "source": [
    "fig, axes = plt.subplots(figsize=(10,4), dpi=100)\n",
    "x=df.price\n",
    "y=df.view\n",
    "axes.scatter(x,y,color='r')\n",
    "axes.set_title(\"PowerBank: View vs Prices\")\n",
    "axes.set_xlabel(\"Prices in RM\")\n",
    "axes.set_ylabel(\"View\")\n",
    "axes.set_xlim(0,200)\n",
    "axes.set_ylim(0,1000)\n"
   ]
  },
  {
   "cell_type": "code",
   "execution_count": 14,
   "metadata": {},
   "outputs": [
    {
     "data": {
      "image/png": "[encoded data removed]",
      "text/plain": [
       "<matplotlib.figure.Figure at 0x2524ec7f630>"
      ]
     },
     "metadata": {},
     "output_type": "display_data"
    }
   ],
   "source": [
    "fig, axes = plt.subplots(figsize=(10,4), dpi=100)\n",
    "x=df.price\n",
    "z=df.sold\n",
    "axes.bar(x,z,color='g')\n",
    "axes.set_title(\"PowerBank: Sold vs Prices\")\n",
    "axes.set_xlabel(\"Prices in RM\")\n",
    "axes.set_ylabel(\"Sold\");\n",
    "\n",
    "#Mostly sold around RM40-RM150"
   ]
  }
 ],
 "metadata": {
  "kernelspec": {
   "display_name": "Python 3",
   "language": "python",
   "name": "python3"
  },
  "language_info": {
   "codemirror_mode": {
    "name": "ipython",
    "version": 3
   },
   "file_extension": ".py",
   "mimetype": "text/x-python",
   "name": "python",
   "nbconvert_exporter": "python",
   "pygments_lexer": "ipython3",
   "version": "3.6.1"
  }
 },
 "nbformat": 4,
 "nbformat_minor": 2
}
