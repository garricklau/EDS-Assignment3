{
 "cells": [
  {
   "cell_type": "markdown",
   "metadata": {},
   "source": [
    "### Import Libraries"
   ]
  },
  {
   "cell_type": "code",
   "execution_count": 345,
   "metadata": {
    "collapsed": true
   },
   "outputs": [],
   "source": [
    "import numpy as np\n",
    "import pandas as pd\n",
    "import matplotlib.pyplot as plt\n",
    "%matplotlib notebook\n",
    "import seaborn as sns\n",
    "import warnings\n",
    "warnings.filterwarnings('ignore')"
   ]
  },
  {
   "cell_type": "markdown",
   "metadata": {
    "collapsed": true
   },
   "source": [
    "### Data Preprocessing"
   ]
  },
  {
   "cell_type": "markdown",
   "metadata": {},
   "source": [
    "### Scrapping Historical Weather Data from Wunderground"
   ]
  },
  {
   "cell_type": "code",
   "execution_count": 13,
   "metadata": {
    "collapsed": true
   },
   "outputs": [],
   "source": [
    "import codecs\n",
    "from urllib.request import urlopen\n",
    "from bs4 import BeautifulSoup\n",
    " \n",
    "# Create/open a file called wunder.txt (which will be a comma-delimited file in utf-8 format)\n",
    "f = codecs.open('wSarawak.txt', 'w', 'utf-8')\n",
    "\n",
    "#Perlis-WMKL\n",
    "#Penang-WMKB\n",
    "#Kelantan-WMKC\n",
    "#Terengganu-WMKN\n",
    "#Pahang-WMKD\n",
    "#Ipoh-WMBA\n",
    "#KL-WMSA\n",
    "#Selangor-WMSA\n",
    "#Melaka-WMKM\n",
    "#Johor-WMKJ\n",
    "#NegeriSembilan-WMKK\n",
    "#Sabah-WBKT\n",
    "#Sarawak-WBGS\n",
    "\n",
    "# Iterate through year, month, and day\n",
    "for y in range(2011, 2016):\n",
    "    for m in range(1, 13):\n",
    "        for d in range(1, 32):\n",
    " \n",
    "            # Check if leap year\n",
    "            if y%400 == 0:\n",
    "                leap = True\n",
    "            elif y%100 == 0:\n",
    "                leap = False\n",
    "            elif y%4 == 0:\n",
    "                leap = True\n",
    "            else:\n",
    "                leap = False\n",
    "\n",
    "            # Check if already gone through month\n",
    "            if (m == 2 and leap and d > 29):\n",
    "                continue\n",
    "            elif (m == 2 and d > 28):\n",
    "                continue\n",
    "            elif (m in [4, 6, 9, 11] and d > 30):\n",
    "                continue\n",
    "\n",
    "            # Open wunderground.com url\n",
    "            url = \"https://www.wunderground.com/history/airport/WBGS/\"+str(y)+ \"/\" + str(m) + \"/\" + str(d) + \"/DailyHistory.html\"         \n",
    "            page = urlopen(url)\n",
    "\n",
    "            \n",
    "            soup = BeautifulSoup(page,'lxml')\n",
    "            \n",
    "            # Get temperature from page\n",
    "            dayTemp = soup.find(\"span\", text=\"Mean Temperature\").parent.find_next_sibling(\"td\").get_text(strip=True)\n",
    "            dayTempC = dayTemp[:2]\n",
    "            \n",
    "            # Get weather event (Rain) from page\n",
    "            weather = soup.find(\"span\", text=\"Events\").parent.find_next_sibling(\"td\").get_text(strip=True)\n",
    "            #print(weather)            \n",
    "            rain = '0'\n",
    "            if weather == '':\n",
    "                rain = '0'\n",
    "            else: \n",
    "                rain = '1'\n",
    "            \n",
    "            # Format month for timestamp\n",
    "            if len(str(m)) < 2:\n",
    "              mStamp = '0' + str(m)\n",
    "            else:\n",
    "              mStamp = str(m)\n",
    "\n",
    "            # Format day for timestamp\n",
    "            if len(str(d)) < 2:\n",
    "              dStamp = '0' + str(d)\n",
    "            else:\n",
    "              dStamp = str(d)\n",
    "\n",
    "            # Build timestamp\n",
    "            timestamp = str(y) + '-' + mStamp + '-' + dStamp\n",
    "\n",
    "            # Write timestamp and temperature to file\n",
    "            f.write(timestamp + ',' + dayTempC + ',' + rain +'\\n')\n",
    " \n",
    "# Done getting data! Close file.\n",
    "f.close()\n"
   ]
  },
  {
   "cell_type": "markdown",
   "metadata": {},
   "source": [
    "### (Weather)df - Combining the 13 states weather data into one dataframe"
   ]
  },
  {
   "cell_type": "code",
   "execution_count": 307,
   "metadata": {},
   "outputs": [
    {
     "name": "stdout",
     "output_type": "stream",
     "text": [
      "Data Types\n",
      "Date     object\n",
      "State    object\n",
      "Temp      int64\n",
      "Rain      int64\n",
      "dtype: object\n",
      "\n",
      "Sum of NaN\n",
      "Date     0\n",
      "State    0\n",
      "Temp     0\n",
      "Rain     0\n",
      "dtype: int64\n",
      "\n",
      "df\n",
      "         Date State  Temp  Rain\n",
      "0  2011-01-01  WPKL    30     1\n",
      "1  2011-01-02  WPKL    29     1\n",
      "2  2011-01-03  WPKL    28     1\n",
      "3  2011-01-04  WPKL    30     1\n",
      "4  2011-01-05  WPKL    29     1\n"
     ]
    }
   ],
   "source": [
    "#Malaysia Weather Data 2011-2015\n",
    "wKL = pd.read_csv(\"../final/wKL.txt\", header=None, names=['Date','Temp','Rain'])\n",
    "wPerlis = pd.read_csv(\"../final/wPerlis.txt\", header=None, names=['Date','Temp','Rain'])\n",
    "wPenang = pd.read_csv(\"../final/wPenang.txt\", header=None, names=['Date','Temp','Rain'])\n",
    "wKelantan = pd.read_csv(\"../final/wKelantan.txt\", header=None, names=['Date','Temp','Rain'])\n",
    "wTerengganu = pd.read_csv(\"../final/wTerengganu.txt\", header=None, names=['Date','Temp','Rain'])\n",
    "wPahang = pd.read_csv(\"../final/wPahang.txt\", header=None, names=['Date','Temp','Rain'])\n",
    "wIpoh = pd.read_csv(\"../final/wIpoh.txt\", header=None, names=['Date','Temp','Rain'])\n",
    "wSelangor = pd.read_csv(\"../final/wSelangor.txt\", header=None, names=['Date','Temp','Rain'])\n",
    "wMelaka = pd.read_csv(\"../final/wMelaka.txt\", header=None, names=['Date','Temp','Rain'])\n",
    "wJohor = pd.read_csv(\"../final/wJohor.txt\", header=None, names=['Date','Temp','Rain'])\n",
    "wNegeriSembilan = pd.read_csv(\"../final/wNegeriSembilan.txt\", header=None, names=['Date','Temp','Rain'])\n",
    "wSabah = pd.read_csv(\"../final/wSabah.txt\", header=None, names=['Date','Temp','Rain'])\n",
    "wSarawak = pd.read_csv(\"../final/wSarawak.txt\", header=None, names=['Date','Temp','Rain'])\n",
    "\n",
    "wKL.insert(1,'State','WPKL')\n",
    "wPerlis.insert(1,'State','Perlis')\n",
    "wPenang.insert(1,'State','Penang')\n",
    "wKelantan.insert(1,'State','Kelantan')\n",
    "wTerengganu.insert(1,'State','Terengganu')\n",
    "wPahang.insert(1,'State','Pahang')\n",
    "wIpoh.insert(1,'State','Ipoh')\n",
    "wSelangor.insert(1,'State','Selangor')\n",
    "wMelaka.insert(1,'State','Melaka')\n",
    "wJohor.insert(1,'State','Johor')\n",
    "wNegeriSembilan.insert(1,'State','NSembilan')\n",
    "wSabah.insert(1,'State','Sabah')\n",
    "wSarawak.insert(1,'State','Sarawak')\n",
    "\n",
    "wstate = [wKL, wPerlis, wPenang, wKelantan, wTerengganu, wPahang, wIpoh, wSelangor, wMelaka, wJohor, wNegeriSembilan, wSarawak]\n",
    "\n",
    "df = pd.concat(wstate, axis=0)\n",
    "\n",
    "print('Data Types')\n",
    "print(df.dtypes)\n",
    "print()\n",
    "print('Sum of NaN')\n",
    "print(df.isnull().sum())\n",
    "print()\n",
    "print('df')\n",
    "print(df.head())"
   ]
  },
  {
   "cell_type": "markdown",
   "metadata": {},
   "source": [
    "### Changing the Date to Datetime format to get Week, Month and Year"
   ]
  },
  {
   "cell_type": "code",
   "execution_count": 308,
   "metadata": {},
   "outputs": [
    {
     "data": {
      "text/html": [
       "<div>\n",
       "<style>\n",
       "    .dataframe thead tr:only-child th {\n",
       "        text-align: right;\n",
       "    }\n",
       "\n",
       "    .dataframe thead th {\n",
       "        text-align: left;\n",
       "    }\n",
       "\n",
       "    .dataframe tbody tr th {\n",
       "        vertical-align: top;\n",
       "    }\n",
       "</style>\n",
       "<table border=\"1\" class=\"dataframe\">\n",
       "  <thead>\n",
       "    <tr style=\"text-align: right;\">\n",
       "      <th></th>\n",
       "      <th>Date</th>\n",
       "      <th>State</th>\n",
       "      <th>Temp</th>\n",
       "      <th>Rain</th>\n",
       "      <th>Week</th>\n",
       "      <th>Year</th>\n",
       "    </tr>\n",
       "  </thead>\n",
       "  <tbody>\n",
       "    <tr>\n",
       "      <th>0</th>\n",
       "      <td>2011-01-01</td>\n",
       "      <td>WPKL</td>\n",
       "      <td>30</td>\n",
       "      <td>1</td>\n",
       "      <td>52</td>\n",
       "      <td>2011</td>\n",
       "    </tr>\n",
       "    <tr>\n",
       "      <th>1</th>\n",
       "      <td>2011-01-02</td>\n",
       "      <td>WPKL</td>\n",
       "      <td>29</td>\n",
       "      <td>1</td>\n",
       "      <td>52</td>\n",
       "      <td>2011</td>\n",
       "    </tr>\n",
       "    <tr>\n",
       "      <th>2</th>\n",
       "      <td>2011-01-03</td>\n",
       "      <td>WPKL</td>\n",
       "      <td>28</td>\n",
       "      <td>1</td>\n",
       "      <td>1</td>\n",
       "      <td>2011</td>\n",
       "    </tr>\n",
       "    <tr>\n",
       "      <th>3</th>\n",
       "      <td>2011-01-04</td>\n",
       "      <td>WPKL</td>\n",
       "      <td>30</td>\n",
       "      <td>1</td>\n",
       "      <td>1</td>\n",
       "      <td>2011</td>\n",
       "    </tr>\n",
       "    <tr>\n",
       "      <th>4</th>\n",
       "      <td>2011-01-05</td>\n",
       "      <td>WPKL</td>\n",
       "      <td>29</td>\n",
       "      <td>1</td>\n",
       "      <td>1</td>\n",
       "      <td>2011</td>\n",
       "    </tr>\n",
       "  </tbody>\n",
       "</table>\n",
       "</div>"
      ],
      "text/plain": [
       "        Date State  Temp  Rain  Week  Year\n",
       "0 2011-01-01  WPKL    30     1    52  2011\n",
       "1 2011-01-02  WPKL    29     1    52  2011\n",
       "2 2011-01-03  WPKL    28     1     1  2011\n",
       "3 2011-01-04  WPKL    30     1     1  2011\n",
       "4 2011-01-05  WPKL    29     1     1  2011"
      ]
     },
     "execution_count": 308,
     "metadata": {},
     "output_type": "execute_result"
    }
   ],
   "source": [
    "df['Date'] = pd.to_datetime(df['Date'])\n",
    "\n",
    "df['Week']= df.Date.dt.week\n",
    "df['Year']= df.Date.dt.year\n",
    "#weatherdf = weatherdf.Date.drop\n",
    "\n",
    "df.head()"
   ]
  },
  {
   "cell_type": "markdown",
   "metadata": {},
   "source": [
    "### Creating the 'Mature' feature \n",
    "\n",
    "Indicating if water is stored after rain and suitable for mosquito to breed, mosquito larva required average 14 days to be fully matured and start infecting and resulting in dengue outbreak."
   ]
  },
  {
   "cell_type": "code",
   "execution_count": 313,
   "metadata": {},
   "outputs": [
    {
     "name": "stdout",
     "output_type": "stream",
     "text": [
      "Nan after shift\n",
      "14\n",
      "\n",
      "NaN after fill with zero\n",
      "Date      0\n",
      "State     0\n",
      "Temp      0\n",
      "Rain      0\n",
      "Week      0\n",
      "Year      0\n",
      "Mature    0\n",
      "dtype: int64\n"
     ]
    }
   ],
   "source": [
    "#Obtain the data from Rain, 14 days ago\n",
    "df['Mature']= df['Rain'].shift(periods=14)\n",
    "\n",
    "#There will be NaN for the first 14 days\n",
    "print(\"Nan after shift\")\n",
    "print(df.Mature.isnull().sum())\n",
    "\n",
    "#Replace the NaN with zero\n",
    "df.Mature.fillna(0, inplace=True)\n",
    "\n",
    "print()\n",
    "#Check if Nan replace\n",
    "print('NaN after fill with zero')\n",
    "print(df.isnull().sum())\n",
    "\n",
    "#Changing the str to int\n",
    "df.Mature = df.Mature.astype(int)"
   ]
  },
  {
   "cell_type": "markdown",
   "metadata": {},
   "source": [
    "### Index by Year Week State - df Preprocessing is DONE into df_clean"
   ]
  },
  {
   "cell_type": "code",
   "execution_count": 339,
   "metadata": {},
   "outputs": [
    {
     "data": {
      "text/html": [
       "<div>\n",
       "<style>\n",
       "    .dataframe thead tr:only-child th {\n",
       "        text-align: right;\n",
       "    }\n",
       "\n",
       "    .dataframe thead th {\n",
       "        text-align: left;\n",
       "    }\n",
       "\n",
       "    .dataframe tbody tr th {\n",
       "        vertical-align: top;\n",
       "    }\n",
       "</style>\n",
       "<table border=\"1\" class=\"dataframe\">\n",
       "  <thead>\n",
       "    <tr style=\"text-align: right;\">\n",
       "      <th></th>\n",
       "      <th></th>\n",
       "      <th></th>\n",
       "      <th>Mature</th>\n",
       "      <th>Rain</th>\n",
       "      <th>Temp</th>\n",
       "    </tr>\n",
       "    <tr>\n",
       "      <th>Year</th>\n",
       "      <th>Week</th>\n",
       "      <th>State</th>\n",
       "      <th></th>\n",
       "      <th></th>\n",
       "      <th></th>\n",
       "    </tr>\n",
       "  </thead>\n",
       "  <tbody>\n",
       "    <tr>\n",
       "      <th rowspan=\"5\" valign=\"top\">2011</th>\n",
       "      <th rowspan=\"5\" valign=\"top\">1</th>\n",
       "      <th>Ipoh</th>\n",
       "      <td>0.571429</td>\n",
       "      <td>0.714286</td>\n",
       "      <td>25.857143</td>\n",
       "    </tr>\n",
       "    <tr>\n",
       "      <th>Johor</th>\n",
       "      <td>0.571429</td>\n",
       "      <td>1.000000</td>\n",
       "      <td>26.285714</td>\n",
       "    </tr>\n",
       "    <tr>\n",
       "      <th>Kelantan</th>\n",
       "      <td>0.142857</td>\n",
       "      <td>0.857143</td>\n",
       "      <td>25.000000</td>\n",
       "    </tr>\n",
       "    <tr>\n",
       "      <th>Melaka</th>\n",
       "      <td>0.571429</td>\n",
       "      <td>0.571429</td>\n",
       "      <td>26.142857</td>\n",
       "    </tr>\n",
       "    <tr>\n",
       "      <th>NSembilan</th>\n",
       "      <td>0.428571</td>\n",
       "      <td>0.571429</td>\n",
       "      <td>27.428571</td>\n",
       "    </tr>\n",
       "  </tbody>\n",
       "</table>\n",
       "</div>"
      ],
      "text/plain": [
       "                       Mature      Rain       Temp\n",
       "Year Week State                                   \n",
       "2011 1    Ipoh       0.571429  0.714286  25.857143\n",
       "          Johor      0.571429  1.000000  26.285714\n",
       "          Kelantan   0.142857  0.857143  25.000000\n",
       "          Melaka     0.571429  0.571429  26.142857\n",
       "          NSembilan  0.428571  0.571429  27.428571"
      ]
     },
     "execution_count": 339,
     "metadata": {},
     "output_type": "execute_result"
    }
   ],
   "source": [
    "#Get the average of Temp, Rain and Mature\n",
    "df_clean = df.pivot_table(values=['Temp','Rain','Mature'], index=['Year','Week','State'], aggfunc='mean')\n",
    "df_clean.head()"
   ]
  },
  {
   "cell_type": "code",
   "execution_count": 423,
   "metadata": {
    "collapsed": true
   },
   "outputs": [],
   "source": [
    "df.to_csv('C:\\\\Users\\\\Garrick\\\\Desktop\\\\EDS\\\\final\\\\df.csv')"
   ]
  },
  {
   "cell_type": "code",
   "execution_count": 415,
   "metadata": {},
   "outputs": [
    {
     "data": {
      "text/html": [
       "<div>\n",
       "<style>\n",
       "    .dataframe thead tr:only-child th {\n",
       "        text-align: right;\n",
       "    }\n",
       "\n",
       "    .dataframe thead th {\n",
       "        text-align: left;\n",
       "    }\n",
       "\n",
       "    .dataframe tbody tr th {\n",
       "        vertical-align: top;\n",
       "    }\n",
       "</style>\n",
       "<table border=\"1\" class=\"dataframe\">\n",
       "  <thead>\n",
       "    <tr style=\"text-align: right;\">\n",
       "      <th></th>\n",
       "      <th>Year</th>\n",
       "      <th>Week</th>\n",
       "      <th>State</th>\n",
       "      <th>Mature</th>\n",
       "      <th>Rain</th>\n",
       "      <th>Temp</th>\n",
       "    </tr>\n",
       "  </thead>\n",
       "  <tbody>\n",
       "    <tr>\n",
       "      <th>0</th>\n",
       "      <td>2011</td>\n",
       "      <td>1</td>\n",
       "      <td>Ipoh</td>\n",
       "      <td>0.571429</td>\n",
       "      <td>0.714286</td>\n",
       "      <td>25.857143</td>\n",
       "    </tr>\n",
       "    <tr>\n",
       "      <th>1</th>\n",
       "      <td>2011</td>\n",
       "      <td>1</td>\n",
       "      <td>Johor</td>\n",
       "      <td>0.571429</td>\n",
       "      <td>1.000000</td>\n",
       "      <td>26.285714</td>\n",
       "    </tr>\n",
       "    <tr>\n",
       "      <th>2</th>\n",
       "      <td>2011</td>\n",
       "      <td>1</td>\n",
       "      <td>Kelantan</td>\n",
       "      <td>0.142857</td>\n",
       "      <td>0.857143</td>\n",
       "      <td>25.000000</td>\n",
       "    </tr>\n",
       "    <tr>\n",
       "      <th>3</th>\n",
       "      <td>2011</td>\n",
       "      <td>1</td>\n",
       "      <td>Melaka</td>\n",
       "      <td>0.571429</td>\n",
       "      <td>0.571429</td>\n",
       "      <td>26.142857</td>\n",
       "    </tr>\n",
       "    <tr>\n",
       "      <th>4</th>\n",
       "      <td>2011</td>\n",
       "      <td>1</td>\n",
       "      <td>NSembilan</td>\n",
       "      <td>0.428571</td>\n",
       "      <td>0.571429</td>\n",
       "      <td>27.428571</td>\n",
       "    </tr>\n",
       "  </tbody>\n",
       "</table>\n",
       "</div>"
      ],
      "text/plain": [
       "   Year  Week      State    Mature      Rain       Temp\n",
       "0  2011     1       Ipoh  0.571429  0.714286  25.857143\n",
       "1  2011     1      Johor  0.571429  1.000000  26.285714\n",
       "2  2011     1   Kelantan  0.142857  0.857143  25.000000\n",
       "3  2011     1     Melaka  0.571429  0.571429  26.142857\n",
       "4  2011     1  NSembilan  0.428571  0.571429  27.428571"
      ]
     },
     "execution_count": 415,
     "metadata": {},
     "output_type": "execute_result"
    }
   ],
   "source": [
    "adf = df_clean.reset_index()\n",
    "adf.head()"
   ]
  },
  {
   "cell_type": "markdown",
   "metadata": {},
   "source": [
    "### (API) df1 - Combining the Cases of outbreak by State into one dataframe"
   ]
  },
  {
   "cell_type": "code",
   "execution_count": 497,
   "metadata": {},
   "outputs": [
    {
     "name": "stdout",
     "output_type": "stream",
     "text": [
      "Checking NaN\n",
      "Year             0\n",
      "Week             0\n",
      "State            0\n",
      "District/Zone    0\n",
      "Location         0\n",
      "TotalCases       0\n",
      "Duration         0\n",
      "dtype: int64\n",
      "\n",
      "Unprocessed State\n",
      "['Selangor' 'WPKL' 'Johor' 'Sarawak' 'N. Sembilan' 'Pahang' 'P. Pinang'\n",
      " 'Terengganu' 'Perak' 'Sabah' 'Kelantan' 'Melaka' 'Perlis' 'P.Pinang'\n",
      " 'Perak ' 'selangor' 'P Pinang' 'Pulau Pinang' 'Peral' 'P.pinang']\n",
      "\n",
      "Unprocessed TotalCases\n",
      "[17 24 59 63 18 62 39 15 88 26 74 16 8 54 20 22 10 32 9 12 11 13 6 5 7 21\n",
      " 14 49 36 67 23 27 34 41 40 37 71 70 30 19 43 25 73 29 33 76 45 38 77 47 28\n",
      " 4 42 50 31 35 48 72 80 82 85 86 56 87 64 68 46 55 60 44 '`' 2 3 53 78 92\n",
      " 65 99 109 51 75 79 101 121 57 69 106 134 148 96 112 154 102 115 163 52 119\n",
      " 169 66 123 172 84 129 182 58 91 192 100 95 136 194 141 198 144 199 111 61\n",
      " 122 108 152 204 127 158 207 139 114 81 168 208 126 117 98 90 173 213 130\n",
      " 120 94 180 217 135 167 97 186 219 170 189 221 104 222 177 223 103 225 227\n",
      " 229 228 237 232 242 233 247 250 256 258 260 'g' 262 105 113 83 143 89 93\n",
      " 147 157 137 159 110 166 142 151 150 175 107 125 116 155 118 124 128 133\n",
      " 140 138 145 185 206 214 220 230 240 131 257 132 261 833 266 274 275 278\n",
      " 176 279 188]\n"
     ]
    }
   ],
   "source": [
    "df1_1 = pd.read_excel('lokalitihotspot2010.xlsx')\n",
    "df1_2 = pd.read_excel('lokalitihotspot2011.xlsx')\n",
    "df1_3 = pd.read_excel('lokalitihotspot2012.xlsx')\n",
    "df1_4 = pd.read_excel('lokalitihotspot2013.xlsx')\n",
    "df1_5 = pd.read_excel('lokalitihotspot2014.xlsx')\n",
    "df1_6 = pd.read_excel('lokalitihotspot2015.xlsx')\n",
    "\n",
    "df1= pd.concat([df1_1, df1_2, df1_3, df1_4 ,df1_5, df1_6])\n",
    "\n",
    "df1.columns= ['Year', 'Week', 'State', 'District/Zone', 'Location', 'TotalCases','Duration']\n",
    "\n",
    "#df1.set_index(['Year','State'])\n",
    "\n",
    "print('Checking NaN')\n",
    "print(df1.isnull().sum())\n",
    "print()\n",
    "print('Unprocessed State')\n",
    "print(df1.State.unique())\n",
    "print()\n",
    "print('Unprocessed TotalCases')\n",
    "print(df1.TotalCases.unique())"
   ]
  },
  {
   "cell_type": "markdown",
   "metadata": {},
   "source": [
    "### Combining regex and str.replace to clean and organise the State and also TotalCases in df1"
   ]
  },
  {
   "cell_type": "code",
   "execution_count": 498,
   "metadata": {},
   "outputs": [
    {
     "name": "stdout",
     "output_type": "stream",
     "text": [
      "Cleaned State\n",
      "['Selangor' 'WPKL' 'Johor' 'Sarawak' 'NSembilan' 'Pahang' 'Penang'\n",
      " 'Terengganu' 'Perak' 'Sabah' 'Kelantan' 'Melaka' 'Perlis']\n",
      "\n",
      "Cleaned TotalCases\n",
      "[ 17  24  59  63  18  62  39  15  88  26  74  16   8  54  20  22  10  32\n",
      "   9  12  11  13   6   5   7  21  14  49  36  67  23  27  34  41  40  37\n",
      "  71  70  30  19  43  25  73  29  33  76  45  38  77  47  28   4  42  50\n",
      "  31  35  48  72  80  82  85  86  56  87  64  68  46  55  60  44   0   2\n",
      "   3  53  78  92  65  99 109  51  75  79 101 121  57  69 106 134 148  96\n",
      " 112 154 102 115 163  52 119 169  66 123 172  84 129 182  58  91 192 100\n",
      "  95 136 194 141 198 144 199 111  61 122 108 152 204 127 158 207 139 114\n",
      "  81 168 208 126 117  98  90 173 213 130 120  94 180 217 135 167  97 186\n",
      " 219 170 189 221 104 222 177 223 103 225 227 229 228 237 232 242 233 247\n",
      " 250 256 258 260 262 105 113  83 143  89  93 147 157 137 159 110 166 142\n",
      " 151 150 175 107 125 116 155 118 124 128 133 140 138 145 185 206 214 220\n",
      " 230 240 131 257 132 261 833 266 274 275 278 176 279 188]\n"
     ]
    },
    {
     "data": {
      "text/html": [
       "<div>\n",
       "<style>\n",
       "    .dataframe thead tr:only-child th {\n",
       "        text-align: right;\n",
       "    }\n",
       "\n",
       "    .dataframe thead th {\n",
       "        text-align: left;\n",
       "    }\n",
       "\n",
       "    .dataframe tbody tr th {\n",
       "        vertical-align: top;\n",
       "    }\n",
       "</style>\n",
       "<table border=\"1\" class=\"dataframe\">\n",
       "  <thead>\n",
       "    <tr style=\"text-align: right;\">\n",
       "      <th></th>\n",
       "      <th>Year</th>\n",
       "      <th>Week</th>\n",
       "      <th>State</th>\n",
       "      <th>District/Zone</th>\n",
       "      <th>Location</th>\n",
       "      <th>TotalCases</th>\n",
       "      <th>Duration</th>\n",
       "    </tr>\n",
       "  </thead>\n",
       "  <tbody>\n",
       "    <tr>\n",
       "      <th>0</th>\n",
       "      <td>2010</td>\n",
       "      <td>9</td>\n",
       "      <td>Selangor</td>\n",
       "      <td>MPSJ</td>\n",
       "      <td>Pjs 9</td>\n",
       "      <td>17</td>\n",
       "      <td>109</td>\n",
       "    </tr>\n",
       "    <tr>\n",
       "      <th>1</th>\n",
       "      <td>2010</td>\n",
       "      <td>9</td>\n",
       "      <td>Selangor</td>\n",
       "      <td>MBPJ</td>\n",
       "      <td>Flat Desa Mentari Pjs 6</td>\n",
       "      <td>24</td>\n",
       "      <td>99</td>\n",
       "    </tr>\n",
       "    <tr>\n",
       "      <th>2</th>\n",
       "      <td>2010</td>\n",
       "      <td>9</td>\n",
       "      <td>Selangor</td>\n",
       "      <td>Petaling</td>\n",
       "      <td>Seksyen 7 Flat  A</td>\n",
       "      <td>59</td>\n",
       "      <td>86</td>\n",
       "    </tr>\n",
       "    <tr>\n",
       "      <th>3</th>\n",
       "      <td>2010</td>\n",
       "      <td>9</td>\n",
       "      <td>Selangor</td>\n",
       "      <td>MPSJ</td>\n",
       "      <td>Ss 18</td>\n",
       "      <td>63</td>\n",
       "      <td>85</td>\n",
       "    </tr>\n",
       "    <tr>\n",
       "      <th>4</th>\n",
       "      <td>2010</td>\n",
       "      <td>9</td>\n",
       "      <td>Selangor</td>\n",
       "      <td>MPSJ</td>\n",
       "      <td>Usj 2</td>\n",
       "      <td>18</td>\n",
       "      <td>76</td>\n",
       "    </tr>\n",
       "  </tbody>\n",
       "</table>\n",
       "</div>"
      ],
      "text/plain": [
       "   Year  Week     State District/Zone                 Location  TotalCases  \\\n",
       "0  2010     9  Selangor          MPSJ                    Pjs 9          17   \n",
       "1  2010     9  Selangor          MBPJ  Flat Desa Mentari Pjs 6          24   \n",
       "2  2010     9  Selangor      Petaling        Seksyen 7 Flat  A          59   \n",
       "3  2010     9  Selangor          MPSJ                    Ss 18          63   \n",
       "4  2010     9  Selangor          MPSJ                    Usj 2          18   \n",
       "\n",
       "   Duration  \n",
       "0       109  \n",
       "1        99  \n",
       "2        86  \n",
       "3        85  \n",
       "4        76  "
      ]
     },
     "execution_count": 498,
     "metadata": {},
     "output_type": "execute_result"
    }
   ],
   "source": [
    "import re\n",
    "\n",
    "regex_pat = re.compile (r'Sel+', flags =re.IGNORECASE)\n",
    "df1['State'].str.contains(regex_pat, regex= True)\n",
    "df1['State']= df1['State'].str.replace(r'[sS]elangor\\s?', 'Selangor')\n",
    "\n",
    "regexEmptySpace= re.compile(r'\\s')\n",
    "df1['State']= df1['State'].str.replace(r'\\s', '')\n",
    "\n",
    "df1.State = df1.State.str.replace('P.Pinang', 'Penang')\n",
    "df1.State = df1.State.str.replace('P.pinang', 'Penang')\n",
    "df1.State = df1.State.str.replace('PulauPinang', 'Penang')\n",
    "df1.State = df1.State.str.replace('PPinang', 'Penang')\n",
    "df1.State = df1.State.str.replace('Peral', 'Perak')\n",
    "df1.State = df1.State.str.replace('N.Sembilan', 'NSembilan')\n",
    "\n",
    "df1.TotalCases.replace(\"`\",0, inplace=True)\n",
    "df1.TotalCases.replace(\"g\",0, inplace=True)\n",
    "\n",
    "print('Cleaned State')\n",
    "print(df1.State.unique())\n",
    "print()\n",
    "print('Cleaned TotalCases')\n",
    "print(df1.TotalCases.unique())\n",
    "\n",
    "df1.head()"
   ]
  },
  {
   "cell_type": "markdown",
   "metadata": {},
   "source": [
    "### Index by Year Week State "
   ]
  },
  {
   "cell_type": "markdown",
   "metadata": {},
   "source": [
    "df1_cases to sum up all TotalCases by State\n"
   ]
  },
  {
   "cell_type": "code",
   "execution_count": 341,
   "metadata": {
    "collapsed": true
   },
   "outputs": [],
   "source": [
    "df1_cases = df1.pivot_table(values=['TotalCases'], index=['Year','Week','State'], aggfunc='sum')"
   ]
  },
  {
   "cell_type": "markdown",
   "metadata": {},
   "source": [
    "df1_duration to get mean duration of dengue by State"
   ]
  },
  {
   "cell_type": "code",
   "execution_count": 342,
   "metadata": {
    "collapsed": true
   },
   "outputs": [],
   "source": [
    "df1_duration = df1.pivot_table(values=['Duration'], index=['Year','Week','State'], aggfunc='mean')"
   ]
  },
  {
   "cell_type": "markdown",
   "metadata": {},
   "source": [
    "### df1 Preprocessing concat and DONE into df1_clean"
   ]
  },
  {
   "cell_type": "code",
   "execution_count": 344,
   "metadata": {},
   "outputs": [
    {
     "data": {
      "text/html": [
       "<div>\n",
       "<style>\n",
       "    .dataframe thead tr:only-child th {\n",
       "        text-align: right;\n",
       "    }\n",
       "\n",
       "    .dataframe thead th {\n",
       "        text-align: left;\n",
       "    }\n",
       "\n",
       "    .dataframe tbody tr th {\n",
       "        vertical-align: top;\n",
       "    }\n",
       "</style>\n",
       "<table border=\"1\" class=\"dataframe\">\n",
       "  <thead>\n",
       "    <tr style=\"text-align: right;\">\n",
       "      <th></th>\n",
       "      <th></th>\n",
       "      <th></th>\n",
       "      <th>TotalCases</th>\n",
       "      <th>Duration</th>\n",
       "    </tr>\n",
       "    <tr>\n",
       "      <th>Year</th>\n",
       "      <th>Week</th>\n",
       "      <th>State</th>\n",
       "      <th></th>\n",
       "      <th></th>\n",
       "    </tr>\n",
       "  </thead>\n",
       "  <tbody>\n",
       "    <tr>\n",
       "      <th rowspan=\"5\" valign=\"top\">2010</th>\n",
       "      <th rowspan=\"5\" valign=\"top\">9</th>\n",
       "      <th>Johor</th>\n",
       "      <td>103</td>\n",
       "      <td>55.571429</td>\n",
       "    </tr>\n",
       "    <tr>\n",
       "      <th>NSembilan</th>\n",
       "      <td>34</td>\n",
       "      <td>35.000000</td>\n",
       "    </tr>\n",
       "    <tr>\n",
       "      <th>Pahang</th>\n",
       "      <td>22</td>\n",
       "      <td>33.000000</td>\n",
       "    </tr>\n",
       "    <tr>\n",
       "      <th>Penang</th>\n",
       "      <td>6</td>\n",
       "      <td>37.000000</td>\n",
       "    </tr>\n",
       "    <tr>\n",
       "      <th>Sarawak</th>\n",
       "      <td>85</td>\n",
       "      <td>72.800000</td>\n",
       "    </tr>\n",
       "  </tbody>\n",
       "</table>\n",
       "</div>"
      ],
      "text/plain": [
       "                     TotalCases   Duration\n",
       "Year Week State                           \n",
       "2010 9    Johor             103  55.571429\n",
       "          NSembilan          34  35.000000\n",
       "          Pahang             22  33.000000\n",
       "          Penang              6  37.000000\n",
       "          Sarawak            85  72.800000"
      ]
     },
     "execution_count": 344,
     "metadata": {},
     "output_type": "execute_result"
    }
   ],
   "source": [
    "df1_clean = pd.concat([df1_cases,df1_duration] , axis=1)\n",
    "df1_clean.head()"
   ]
  },
  {
   "cell_type": "code",
   "execution_count": 459,
   "metadata": {
    "collapsed": true
   },
   "outputs": [],
   "source": [
    "df1_clean.to_csv('C:\\\\Users\\\\Garrick\\\\Desktop\\\\EDS\\\\final\\\\df1.csv')"
   ]
  },
  {
   "cell_type": "code",
   "execution_count": 420,
   "metadata": {},
   "outputs": [
    {
     "data": {
      "text/html": [
       "<div>\n",
       "<style>\n",
       "    .dataframe thead tr:only-child th {\n",
       "        text-align: right;\n",
       "    }\n",
       "\n",
       "    .dataframe thead th {\n",
       "        text-align: left;\n",
       "    }\n",
       "\n",
       "    .dataframe tbody tr th {\n",
       "        vertical-align: top;\n",
       "    }\n",
       "</style>\n",
       "<table border=\"1\" class=\"dataframe\">\n",
       "  <thead>\n",
       "    <tr style=\"text-align: right;\">\n",
       "      <th></th>\n",
       "      <th>Year</th>\n",
       "      <th>Week</th>\n",
       "      <th>State</th>\n",
       "      <th>TotalCases</th>\n",
       "      <th>Duration</th>\n",
       "    </tr>\n",
       "  </thead>\n",
       "  <tbody>\n",
       "    <tr>\n",
       "      <th>0</th>\n",
       "      <td>2010</td>\n",
       "      <td>9</td>\n",
       "      <td>Johor</td>\n",
       "      <td>103</td>\n",
       "      <td>55.571429</td>\n",
       "    </tr>\n",
       "    <tr>\n",
       "      <th>1</th>\n",
       "      <td>2010</td>\n",
       "      <td>9</td>\n",
       "      <td>NSembilan</td>\n",
       "      <td>34</td>\n",
       "      <td>35.000000</td>\n",
       "    </tr>\n",
       "    <tr>\n",
       "      <th>2</th>\n",
       "      <td>2010</td>\n",
       "      <td>9</td>\n",
       "      <td>Pahang</td>\n",
       "      <td>22</td>\n",
       "      <td>33.000000</td>\n",
       "    </tr>\n",
       "    <tr>\n",
       "      <th>3</th>\n",
       "      <td>2010</td>\n",
       "      <td>9</td>\n",
       "      <td>Penang</td>\n",
       "      <td>6</td>\n",
       "      <td>37.000000</td>\n",
       "    </tr>\n",
       "    <tr>\n",
       "      <th>4</th>\n",
       "      <td>2010</td>\n",
       "      <td>9</td>\n",
       "      <td>Sarawak</td>\n",
       "      <td>85</td>\n",
       "      <td>72.800000</td>\n",
       "    </tr>\n",
       "  </tbody>\n",
       "</table>\n",
       "</div>"
      ],
      "text/plain": [
       "   Year  Week      State  TotalCases   Duration\n",
       "0  2010     9      Johor         103  55.571429\n",
       "1  2010     9  NSembilan          34  35.000000\n",
       "2  2010     9     Pahang          22  33.000000\n",
       "3  2010     9     Penang           6  37.000000\n",
       "4  2010     9    Sarawak          85  72.800000"
      ]
     },
     "execution_count": 420,
     "metadata": {},
     "output_type": "execute_result"
    }
   ],
   "source": [
    "bdf = df1_clean.reset_index()\n",
    "bdf.head()"
   ]
  },
  {
   "cell_type": "code",
   "execution_count": 509,
   "metadata": {},
   "outputs": [
    {
     "data": {
      "image/png": "[encoded data removed]",
      "text/plain": [
       "<matplotlib.figure.Figure at 0x14d07507b70>"
      ]
     },
     "metadata": {},
     "output_type": "display_data"
    }
   ],
   "source": [
    "average = df1.groupby(['Week'])[['Duration','TotalCases']].mean()\n",
    "\n",
    "plt.figure(figsize=(12,4))\n",
    "plt.scatter(average['TotalCases'],average['Duration'])\n",
    "plt.show()"
   ]
  },
  {
   "cell_type": "code",
   "execution_count": 473,
   "metadata": {},
   "outputs": [
    {
     "data": {
      "image/png": "[encoded data removed]",
      "text/plain": [
       "<matplotlib.figure.Figure at 0x14cee522550>"
      ]
     },
     "metadata": {},
     "output_type": "display_data"
    }
   ],
   "source": [
    "#To find average total cases and duration\n",
    "df1['TotalCases']=pd.to_numeric(df1['TotalCases'], errors='coerce')\n",
    "df1['TotalCases'].sum()\n",
    "df1['State']\n",
    "\n",
    "ig, ax = plt.subplots(figsize=(10,5))\n",
    "\n",
    "x=df1['State']\n",
    "y=df1['TotalCases']\n",
    "\n",
    "ax.bar(x, y)\n",
    "ax.set_title(\"Totalcases (2010-2015) by state\")\n",
    "plt.xlabel('State')\n",
    "plt.ylabel('Total cases');"
   ]
  },
  {
   "cell_type": "markdown",
   "metadata": {},
   "source": [
    "### (API) df2 - Combining the API by State into one dataframe"
   ]
  },
  {
   "cell_type": "code",
   "execution_count": 384,
   "metadata": {},
   "outputs": [
    {
     "name": "stdout",
     "output_type": "stream",
     "text": [
      "Checking NaN\n",
      "Date        0\n",
      "Time        0\n",
      "State       0\n",
      "Location    0\n",
      "API         1\n",
      "dtype: int64\n"
     ]
    },
    {
     "data": {
      "text/html": [
       "<div>\n",
       "<style>\n",
       "    .dataframe thead tr:only-child th {\n",
       "        text-align: right;\n",
       "    }\n",
       "\n",
       "    .dataframe thead th {\n",
       "        text-align: left;\n",
       "    }\n",
       "\n",
       "    .dataframe tbody tr th {\n",
       "        vertical-align: top;\n",
       "    }\n",
       "</style>\n",
       "<table border=\"1\" class=\"dataframe\">\n",
       "  <thead>\n",
       "    <tr style=\"text-align: right;\">\n",
       "      <th></th>\n",
       "      <th>Date</th>\n",
       "      <th>Time</th>\n",
       "      <th>State</th>\n",
       "      <th>Location</th>\n",
       "      <th>API</th>\n",
       "    </tr>\n",
       "  </thead>\n",
       "  <tbody>\n",
       "    <tr>\n",
       "      <th>0</th>\n",
       "      <td>01/10/2005</td>\n",
       "      <td>5:00PM</td>\n",
       "      <td>Sabah</td>\n",
       "      <td>Sandakan</td>\n",
       "      <td>30*</td>\n",
       "    </tr>\n",
       "    <tr>\n",
       "      <th>1</th>\n",
       "      <td>01/10/2005</td>\n",
       "      <td>5:00PM</td>\n",
       "      <td>Sabah</td>\n",
       "      <td>Keningau</td>\n",
       "      <td>#</td>\n",
       "    </tr>\n",
       "    <tr>\n",
       "      <th>2</th>\n",
       "      <td>01/10/2005</td>\n",
       "      <td>5:00PM</td>\n",
       "      <td>Sabah</td>\n",
       "      <td>Tawau</td>\n",
       "      <td>53*</td>\n",
       "    </tr>\n",
       "    <tr>\n",
       "      <th>3</th>\n",
       "      <td>01/10/2005</td>\n",
       "      <td>5:00PM</td>\n",
       "      <td>Sabah</td>\n",
       "      <td>Kota Kinabalu</td>\n",
       "      <td>33*</td>\n",
       "    </tr>\n",
       "    <tr>\n",
       "      <th>4</th>\n",
       "      <td>01/10/2005</td>\n",
       "      <td>5:00PM</td>\n",
       "      <td>Sarawak</td>\n",
       "      <td>Kapit</td>\n",
       "      <td>29*</td>\n",
       "    </tr>\n",
       "  </tbody>\n",
       "</table>\n",
       "</div>"
      ],
      "text/plain": [
       "         Date    Time    State       Location  API\n",
       "0  01/10/2005  5:00PM    Sabah       Sandakan  30*\n",
       "1  01/10/2005  5:00PM    Sabah       Keningau    #\n",
       "2  01/10/2005  5:00PM    Sabah          Tawau  53*\n",
       "3  01/10/2005  5:00PM    Sabah  Kota Kinabalu  33*\n",
       "4  01/10/2005  5:00PM  Sarawak          Kapit  29*"
      ]
     },
     "execution_count": 384,
     "metadata": {},
     "output_type": "execute_result"
    }
   ],
   "source": [
    "df2_1 = pd.read_csv('ipu2005.csv')\n",
    "df2_2 = pd.read_csv('ipu2013.csv')\n",
    "df2_3 = pd.read_csv('ipu2014.csv')\n",
    "\n",
    "df2= pd.concat([df2_1, df2_2, df2_3])\n",
    "\n",
    "df2.columns= ['Date', 'Time', 'State', 'Location', 'API']\n",
    "\n",
    "print('Checking NaN')\n",
    "print(df2.isnull().sum())\n",
    "\n",
    "df2.head()"
   ]
  },
  {
   "cell_type": "markdown",
   "metadata": {},
   "source": [
    "Changing Date to datetime to extract the date range"
   ]
  },
  {
   "cell_type": "code",
   "execution_count": 385,
   "metadata": {
    "collapsed": true
   },
   "outputs": [],
   "source": [
    "df2['Date'] = pd.to_datetime(df2['Date'])"
   ]
  },
  {
   "cell_type": "code",
   "execution_count": 386,
   "metadata": {},
   "outputs": [
    {
     "data": {
      "text/html": [
       "<div>\n",
       "<style>\n",
       "    .dataframe thead tr:only-child th {\n",
       "        text-align: right;\n",
       "    }\n",
       "\n",
       "    .dataframe thead th {\n",
       "        text-align: left;\n",
       "    }\n",
       "\n",
       "    .dataframe tbody tr th {\n",
       "        vertical-align: top;\n",
       "    }\n",
       "</style>\n",
       "<table border=\"1\" class=\"dataframe\">\n",
       "  <thead>\n",
       "    <tr style=\"text-align: right;\">\n",
       "      <th></th>\n",
       "      <th>Date</th>\n",
       "      <th>Time</th>\n",
       "      <th>State</th>\n",
       "      <th>Location</th>\n",
       "      <th>API</th>\n",
       "      <th>Week</th>\n",
       "      <th>Year</th>\n",
       "    </tr>\n",
       "  </thead>\n",
       "  <tbody>\n",
       "    <tr>\n",
       "      <th>214441</th>\n",
       "      <td>2011-01-01</td>\n",
       "      <td>7:00AM</td>\n",
       "      <td>Perlis</td>\n",
       "      <td>Kangar</td>\n",
       "      <td>33*</td>\n",
       "      <td>52</td>\n",
       "      <td>2011</td>\n",
       "    </tr>\n",
       "    <tr>\n",
       "      <th>214442</th>\n",
       "      <td>2011-01-01</td>\n",
       "      <td>7:00AM</td>\n",
       "      <td>Kedah</td>\n",
       "      <td>Langkawi</td>\n",
       "      <td>23c</td>\n",
       "      <td>52</td>\n",
       "      <td>2011</td>\n",
       "    </tr>\n",
       "    <tr>\n",
       "      <th>214443</th>\n",
       "      <td>2011-01-01</td>\n",
       "      <td>7:00AM</td>\n",
       "      <td>Kedah</td>\n",
       "      <td>Alor Setar</td>\n",
       "      <td>#</td>\n",
       "      <td>52</td>\n",
       "      <td>2011</td>\n",
       "    </tr>\n",
       "    <tr>\n",
       "      <th>214444</th>\n",
       "      <td>2011-01-01</td>\n",
       "      <td>7:00AM</td>\n",
       "      <td>Kedah</td>\n",
       "      <td>Bakar Arang, Sg. Petani</td>\n",
       "      <td>47*</td>\n",
       "      <td>52</td>\n",
       "      <td>2011</td>\n",
       "    </tr>\n",
       "    <tr>\n",
       "      <th>214445</th>\n",
       "      <td>2011-01-01</td>\n",
       "      <td>7:00AM</td>\n",
       "      <td>Pulau Pinang</td>\n",
       "      <td>USM</td>\n",
       "      <td>17*</td>\n",
       "      <td>52</td>\n",
       "      <td>2011</td>\n",
       "    </tr>\n",
       "  </tbody>\n",
       "</table>\n",
       "</div>"
      ],
      "text/plain": [
       "             Date    Time         State                 Location  API  Week  \\\n",
       "214441 2011-01-01  7:00AM        Perlis                   Kangar  33*    52   \n",
       "214442 2011-01-01  7:00AM         Kedah                 Langkawi  23c    52   \n",
       "214443 2011-01-01  7:00AM         Kedah               Alor Setar    #    52   \n",
       "214444 2011-01-01  7:00AM         Kedah  Bakar Arang, Sg. Petani  47*    52   \n",
       "214445 2011-01-01  7:00AM  Pulau Pinang                      USM  17*    52   \n",
       "\n",
       "        Year  \n",
       "214441  2011  \n",
       "214442  2011  \n",
       "214443  2011  \n",
       "214444  2011  \n",
       "214445  2011  "
      ]
     },
     "execution_count": 386,
     "metadata": {},
     "output_type": "execute_result"
    }
   ],
   "source": [
    "#Select the required date range\n",
    "df2 = df2[(df2.Date >= \"2011-01-01\") & (df2.Date <= \"2014-12-31\")]\n",
    "\n",
    "#Adding Week and Year to the df2\n",
    "df2['Week']= df2.Date.dt.week\n",
    "df2['Year']= df2.Date.dt.year\n",
    "\n",
    "df2.head()"
   ]
  },
  {
   "cell_type": "markdown",
   "metadata": {},
   "source": [
    "Cleaning"
   ]
  },
  {
   "cell_type": "code",
   "execution_count": 387,
   "metadata": {},
   "outputs": [
    {
     "name": "stdout",
     "output_type": "stream",
     "text": [
      "Checking NaN\n",
      "Date        0\n",
      "Time        0\n",
      "State       0\n",
      "Location    0\n",
      "API         0\n",
      "Week        0\n",
      "Year        0\n",
      "dtype: int64\n",
      "\n",
      "df2 States\n",
      "['Perlis' 'Kedah' 'Penang' 'Perak' 'Selangor' 'WPKL' 'NSembilan' 'Melaka'\n",
      " 'Johor' 'Kelantan' 'Terengganu' 'Pahang' 'Sarawak' 'Sabah']\n",
      "\n",
      "<class 'pandas.core.frame.DataFrame'>\n",
      "Int64Index: 831327 entries, 214441 to 45767\n",
      "Data columns (total 7 columns):\n",
      "Date        831327 non-null datetime64[ns]\n",
      "Time        831327 non-null object\n",
      "State       831327 non-null object\n",
      "Location    831327 non-null object\n",
      "API         831327 non-null object\n",
      "Week        831327 non-null int64\n",
      "Year        831327 non-null int64\n",
      "dtypes: datetime64[ns](1), int64(2), object(4)\n",
      "memory usage: 50.7+ MB\n"
     ]
    }
   ],
   "source": [
    "#Clean up the API data from special character\n",
    "df2['API'] = df2.API.replace(['[^\\d]'], [''], regex=True)\n",
    "df2.API.replace('', np.nan, inplace=True)\n",
    "\n",
    "#Replace NaN in API data with median\n",
    "medianAPI = df2.API.median()\n",
    "df2.API.fillna(medianAPI, inplace=True)\n",
    "\n",
    "print('Checking NaN')\n",
    "print(df2.isnull().sum())\n",
    "print()\n",
    "\n",
    "#Replace state in df2\n",
    "df2.State = df2.State.str.replace('Negeri Sembilan', 'NSembilan')\n",
    "df2.State = df2.State.str.replace('Pulau Pinang', 'Penang')\n",
    "df2.State = df2.State.str.replace('Wilayah Persekutuan', 'WPKL')\n",
    "print('df2 States')\n",
    "print(df2.State.unique())\n",
    "print()\n",
    "df2.info()"
   ]
  },
  {
   "cell_type": "markdown",
   "metadata": {},
   "source": [
    "### df2 Preprocessing concat and DONE into df2_clean"
   ]
  },
  {
   "cell_type": "code",
   "execution_count": 388,
   "metadata": {
    "collapsed": true
   },
   "outputs": [],
   "source": [
    "#Changing the str API to float\n",
    "df2.API = pd.to_numeric(df2.API)"
   ]
  },
  {
   "cell_type": "code",
   "execution_count": 389,
   "metadata": {},
   "outputs": [
    {
     "data": {
      "text/html": [
       "<div>\n",
       "<style>\n",
       "    .dataframe thead tr:only-child th {\n",
       "        text-align: right;\n",
       "    }\n",
       "\n",
       "    .dataframe thead th {\n",
       "        text-align: left;\n",
       "    }\n",
       "\n",
       "    .dataframe tbody tr th {\n",
       "        vertical-align: top;\n",
       "    }\n",
       "</style>\n",
       "<table border=\"1\" class=\"dataframe\">\n",
       "  <thead>\n",
       "    <tr style=\"text-align: right;\">\n",
       "      <th></th>\n",
       "      <th></th>\n",
       "      <th></th>\n",
       "      <th>API</th>\n",
       "    </tr>\n",
       "    <tr>\n",
       "      <th>Year</th>\n",
       "      <th>Week</th>\n",
       "      <th>State</th>\n",
       "      <th></th>\n",
       "    </tr>\n",
       "  </thead>\n",
       "  <tbody>\n",
       "    <tr>\n",
       "      <th rowspan=\"5\" valign=\"top\">2011</th>\n",
       "      <th rowspan=\"5\" valign=\"top\">1</th>\n",
       "      <th>Johor</th>\n",
       "      <td>47.392857</td>\n",
       "    </tr>\n",
       "    <tr>\n",
       "      <th>Kedah</th>\n",
       "      <td>43.380952</td>\n",
       "    </tr>\n",
       "    <tr>\n",
       "      <th>Kelantan</th>\n",
       "      <td>52.452381</td>\n",
       "    </tr>\n",
       "    <tr>\n",
       "      <th>Melaka</th>\n",
       "      <td>52.595238</td>\n",
       "    </tr>\n",
       "    <tr>\n",
       "      <th>NSembilan</th>\n",
       "      <td>52.063492</td>\n",
       "    </tr>\n",
       "  </tbody>\n",
       "</table>\n",
       "</div>"
      ],
      "text/plain": [
       "                           API\n",
       "Year Week State               \n",
       "2011 1    Johor      47.392857\n",
       "          Kedah      43.380952\n",
       "          Kelantan   52.452381\n",
       "          Melaka     52.595238\n",
       "          NSembilan  52.063492"
      ]
     },
     "execution_count": 389,
     "metadata": {},
     "output_type": "execute_result"
    }
   ],
   "source": [
    "df2_clean = df2.pivot_table(values=['API'], index=['Year','Week','State'], aggfunc='mean')\n",
    "df2_clean.head()"
   ]
  },
  {
   "cell_type": "code",
   "execution_count": null,
   "metadata": {
    "collapsed": true
   },
   "outputs": [],
   "source": [
    "df2.to_csv('C:\\\\Users\\\\Garrick\\\\Desktop\\\\EDS\\\\final\\\\df2.csv')"
   ]
  },
  {
   "cell_type": "markdown",
   "metadata": {},
   "source": [
    "### Merging 3 clean dataframe into 1"
   ]
  },
  {
   "cell_type": "code",
   "execution_count": 390,
   "metadata": {},
   "outputs": [
    {
     "name": "stdout",
     "output_type": "stream",
     "text": [
      "3132\n",
      "690\n",
      "2912\n"
     ]
    }
   ],
   "source": [
    "print(len(df_clean))\n",
    "print(len(df1_clean))\n",
    "print(len(df2_clean))"
   ]
  },
  {
   "cell_type": "code",
   "execution_count": null,
   "metadata": {
    "collapsed": true
   },
   "outputs": [],
   "source": [
    "final = pd.concat([df1_clean,df_clean,df2_clean], axis=1, join='inner').reset_index()"
   ]
  },
  {
   "cell_type": "code",
   "execution_count": 392,
   "metadata": {},
   "outputs": [
    {
     "data": {
      "text/html": [
       "<div>\n",
       "<style>\n",
       "    .dataframe thead tr:only-child th {\n",
       "        text-align: right;\n",
       "    }\n",
       "\n",
       "    .dataframe thead th {\n",
       "        text-align: left;\n",
       "    }\n",
       "\n",
       "    .dataframe tbody tr th {\n",
       "        vertical-align: top;\n",
       "    }\n",
       "</style>\n",
       "<table border=\"1\" class=\"dataframe\">\n",
       "  <thead>\n",
       "    <tr style=\"text-align: right;\">\n",
       "      <th></th>\n",
       "      <th>Year</th>\n",
       "      <th>Week</th>\n",
       "      <th>State</th>\n",
       "      <th>TotalCases</th>\n",
       "      <th>Duration</th>\n",
       "      <th>Mature</th>\n",
       "      <th>Rain</th>\n",
       "      <th>Temp</th>\n",
       "      <th>API</th>\n",
       "    </tr>\n",
       "  </thead>\n",
       "  <tbody>\n",
       "    <tr>\n",
       "      <th>0</th>\n",
       "      <td>2011</td>\n",
       "      <td>1</td>\n",
       "      <td>Pahang</td>\n",
       "      <td>14</td>\n",
       "      <td>40.000000</td>\n",
       "      <td>0.714286</td>\n",
       "      <td>0.857143</td>\n",
       "      <td>25.000000</td>\n",
       "      <td>45.841270</td>\n",
       "    </tr>\n",
       "    <tr>\n",
       "      <th>1</th>\n",
       "      <td>2011</td>\n",
       "      <td>1</td>\n",
       "      <td>Selangor</td>\n",
       "      <td>38</td>\n",
       "      <td>46.000000</td>\n",
       "      <td>0.428571</td>\n",
       "      <td>0.571429</td>\n",
       "      <td>28.000000</td>\n",
       "      <td>50.761905</td>\n",
       "    </tr>\n",
       "    <tr>\n",
       "      <th>2</th>\n",
       "      <td>2011</td>\n",
       "      <td>1</td>\n",
       "      <td>WPKL</td>\n",
       "      <td>9</td>\n",
       "      <td>32.000000</td>\n",
       "      <td>0.000000</td>\n",
       "      <td>0.571429</td>\n",
       "      <td>28.000000</td>\n",
       "      <td>46.630952</td>\n",
       "    </tr>\n",
       "    <tr>\n",
       "      <th>3</th>\n",
       "      <td>2011</td>\n",
       "      <td>2</td>\n",
       "      <td>Johor</td>\n",
       "      <td>19</td>\n",
       "      <td>36.000000</td>\n",
       "      <td>0.571429</td>\n",
       "      <td>0.857143</td>\n",
       "      <td>26.000000</td>\n",
       "      <td>45.550000</td>\n",
       "    </tr>\n",
       "    <tr>\n",
       "      <th>4</th>\n",
       "      <td>2011</td>\n",
       "      <td>2</td>\n",
       "      <td>Pahang</td>\n",
       "      <td>14</td>\n",
       "      <td>46.000000</td>\n",
       "      <td>0.857143</td>\n",
       "      <td>0.571429</td>\n",
       "      <td>25.714286</td>\n",
       "      <td>38.766667</td>\n",
       "    </tr>\n",
       "    <tr>\n",
       "      <th>5</th>\n",
       "      <td>2011</td>\n",
       "      <td>2</td>\n",
       "      <td>Selangor</td>\n",
       "      <td>69</td>\n",
       "      <td>41.333333</td>\n",
       "      <td>0.714286</td>\n",
       "      <td>0.285714</td>\n",
       "      <td>28.428571</td>\n",
       "      <td>44.210000</td>\n",
       "    </tr>\n",
       "    <tr>\n",
       "      <th>6</th>\n",
       "      <td>2011</td>\n",
       "      <td>2</td>\n",
       "      <td>WPKL</td>\n",
       "      <td>23</td>\n",
       "      <td>35.000000</td>\n",
       "      <td>0.285714</td>\n",
       "      <td>0.285714</td>\n",
       "      <td>28.428571</td>\n",
       "      <td>39.637500</td>\n",
       "    </tr>\n",
       "    <tr>\n",
       "      <th>7</th>\n",
       "      <td>2011</td>\n",
       "      <td>3</td>\n",
       "      <td>Johor</td>\n",
       "      <td>27</td>\n",
       "      <td>39.000000</td>\n",
       "      <td>1.000000</td>\n",
       "      <td>0.285714</td>\n",
       "      <td>26.142857</td>\n",
       "      <td>45.214286</td>\n",
       "    </tr>\n",
       "    <tr>\n",
       "      <th>8</th>\n",
       "      <td>2011</td>\n",
       "      <td>3</td>\n",
       "      <td>Penang</td>\n",
       "      <td>6</td>\n",
       "      <td>30.000000</td>\n",
       "      <td>0.428571</td>\n",
       "      <td>0.000000</td>\n",
       "      <td>26.857143</td>\n",
       "      <td>50.301587</td>\n",
       "    </tr>\n",
       "    <tr>\n",
       "      <th>9</th>\n",
       "      <td>2011</td>\n",
       "      <td>3</td>\n",
       "      <td>Selangor</td>\n",
       "      <td>32</td>\n",
       "      <td>46.000000</td>\n",
       "      <td>0.571429</td>\n",
       "      <td>0.142857</td>\n",
       "      <td>28.571429</td>\n",
       "      <td>61.323810</td>\n",
       "    </tr>\n",
       "  </tbody>\n",
       "</table>\n",
       "</div>"
      ],
      "text/plain": [
       "   Year  Week     State  TotalCases   Duration    Mature      Rain       Temp  \\\n",
       "0  2011     1    Pahang          14  40.000000  0.714286  0.857143  25.000000   \n",
       "1  2011     1  Selangor          38  46.000000  0.428571  0.571429  28.000000   \n",
       "2  2011     1      WPKL           9  32.000000  0.000000  0.571429  28.000000   \n",
       "3  2011     2     Johor          19  36.000000  0.571429  0.857143  26.000000   \n",
       "4  2011     2    Pahang          14  46.000000  0.857143  0.571429  25.714286   \n",
       "5  2011     2  Selangor          69  41.333333  0.714286  0.285714  28.428571   \n",
       "6  2011     2      WPKL          23  35.000000  0.285714  0.285714  28.428571   \n",
       "7  2011     3     Johor          27  39.000000  1.000000  0.285714  26.142857   \n",
       "8  2011     3    Penang           6  30.000000  0.428571  0.000000  26.857143   \n",
       "9  2011     3  Selangor          32  46.000000  0.571429  0.142857  28.571429   \n",
       "\n",
       "         API  \n",
       "0  45.841270  \n",
       "1  50.761905  \n",
       "2  46.630952  \n",
       "3  45.550000  \n",
       "4  38.766667  \n",
       "5  44.210000  \n",
       "6  39.637500  \n",
       "7  45.214286  \n",
       "8  50.301587  \n",
       "9  61.323810  "
      ]
     },
     "execution_count": 392,
     "metadata": {},
     "output_type": "execute_result"
    }
   ],
   "source": [
    "final.head(10)"
   ]
  },
  {
   "cell_type": "code",
   "execution_count": null,
   "metadata": {
    "collapsed": true
   },
   "outputs": [],
   "source": [
    "final.to_csv('C:\\\\Users\\\\Garrick\\\\Desktop\\\\EDS\\\\final\\\\finaldata1.csv')"
   ]
  },
  {
   "cell_type": "code",
   "execution_count": 437,
   "metadata": {
    "collapsed": true
   },
   "outputs": [],
   "source": [
    "finaltrain = final[(final.Year >= 2011) & (final.Year <= 2013) & (final.State == 'Selangor')]\n",
    "finaltrain.to_csv('C:\\\\Users\\\\Garrick\\\\Desktop\\\\EDS\\\\final\\\\finaltrain.csv')"
   ]
  },
  {
   "cell_type": "code",
   "execution_count": 438,
   "metadata": {
    "collapsed": true
   },
   "outputs": [],
   "source": [
    "finaltest = final[(final['Year'] == 2014) & (final.State == 'Selangor')]\n",
    "finaltest.to_csv('C:\\\\Users\\\\Garrick\\\\Desktop\\\\EDS\\\\final\\\\finaltest.csv')"
   ]
  },
  {
   "cell_type": "code",
   "execution_count": 393,
   "metadata": {},
   "outputs": [
    {
     "data": {
      "text/html": [
       "<div>\n",
       "<style>\n",
       "    .dataframe thead tr:only-child th {\n",
       "        text-align: right;\n",
       "    }\n",
       "\n",
       "    .dataframe thead th {\n",
       "        text-align: left;\n",
       "    }\n",
       "\n",
       "    .dataframe tbody tr th {\n",
       "        vertical-align: top;\n",
       "    }\n",
       "</style>\n",
       "<table border=\"1\" class=\"dataframe\">\n",
       "  <thead>\n",
       "    <tr style=\"text-align: right;\">\n",
       "      <th></th>\n",
       "      <th>Year</th>\n",
       "      <th>Week</th>\n",
       "      <th>TotalCases</th>\n",
       "      <th>Duration</th>\n",
       "      <th>Mature</th>\n",
       "      <th>Rain</th>\n",
       "      <th>Temp</th>\n",
       "      <th>API</th>\n",
       "    </tr>\n",
       "  </thead>\n",
       "  <tbody>\n",
       "    <tr>\n",
       "      <th>count</th>\n",
       "      <td>338.000000</td>\n",
       "      <td>338.000000</td>\n",
       "      <td>338.000000</td>\n",
       "      <td>338.000000</td>\n",
       "      <td>338.000000</td>\n",
       "      <td>338.000000</td>\n",
       "      <td>338.000000</td>\n",
       "      <td>338.000000</td>\n",
       "    </tr>\n",
       "    <tr>\n",
       "      <th>mean</th>\n",
       "      <td>2012.928994</td>\n",
       "      <td>26.556213</td>\n",
       "      <td>456.940828</td>\n",
       "      <td>44.957873</td>\n",
       "      <td>0.631234</td>\n",
       "      <td>0.638860</td>\n",
       "      <td>28.465554</td>\n",
       "      <td>44.778686</td>\n",
       "    </tr>\n",
       "    <tr>\n",
       "      <th>std</th>\n",
       "      <td>1.284807</td>\n",
       "      <td>15.155517</td>\n",
       "      <td>949.867226</td>\n",
       "      <td>13.976131</td>\n",
       "      <td>0.289437</td>\n",
       "      <td>0.283653</td>\n",
       "      <td>1.125020</td>\n",
       "      <td>10.660144</td>\n",
       "    </tr>\n",
       "    <tr>\n",
       "      <th>min</th>\n",
       "      <td>2011.000000</td>\n",
       "      <td>1.000000</td>\n",
       "      <td>2.000000</td>\n",
       "      <td>9.000000</td>\n",
       "      <td>0.000000</td>\n",
       "      <td>0.000000</td>\n",
       "      <td>25.000000</td>\n",
       "      <td>26.680357</td>\n",
       "    </tr>\n",
       "    <tr>\n",
       "      <th>25%</th>\n",
       "      <td>2011.000000</td>\n",
       "      <td>12.250000</td>\n",
       "      <td>12.000000</td>\n",
       "      <td>35.000000</td>\n",
       "      <td>0.428571</td>\n",
       "      <td>0.428571</td>\n",
       "      <td>27.714286</td>\n",
       "      <td>37.853463</td>\n",
       "    </tr>\n",
       "    <tr>\n",
       "      <th>50%</th>\n",
       "      <td>2014.000000</td>\n",
       "      <td>27.000000</td>\n",
       "      <td>27.500000</td>\n",
       "      <td>41.583333</td>\n",
       "      <td>0.714286</td>\n",
       "      <td>0.714286</td>\n",
       "      <td>28.571429</td>\n",
       "      <td>43.363690</td>\n",
       "    </tr>\n",
       "    <tr>\n",
       "      <th>75%</th>\n",
       "      <td>2014.000000</td>\n",
       "      <td>40.000000</td>\n",
       "      <td>159.000000</td>\n",
       "      <td>53.479808</td>\n",
       "      <td>0.857143</td>\n",
       "      <td>0.857143</td>\n",
       "      <td>29.285714</td>\n",
       "      <td>49.339782</td>\n",
       "    </tr>\n",
       "    <tr>\n",
       "      <th>max</th>\n",
       "      <td>2014.000000</td>\n",
       "      <td>52.000000</td>\n",
       "      <td>5261.000000</td>\n",
       "      <td>96.000000</td>\n",
       "      <td>1.000000</td>\n",
       "      <td>1.000000</td>\n",
       "      <td>31.142857</td>\n",
       "      <td>113.954037</td>\n",
       "    </tr>\n",
       "  </tbody>\n",
       "</table>\n",
       "</div>"
      ],
      "text/plain": [
       "              Year        Week   TotalCases    Duration      Mature  \\\n",
       "count   338.000000  338.000000   338.000000  338.000000  338.000000   \n",
       "mean   2012.928994   26.556213   456.940828   44.957873    0.631234   \n",
       "std       1.284807   15.155517   949.867226   13.976131    0.289437   \n",
       "min    2011.000000    1.000000     2.000000    9.000000    0.000000   \n",
       "25%    2011.000000   12.250000    12.000000   35.000000    0.428571   \n",
       "50%    2014.000000   27.000000    27.500000   41.583333    0.714286   \n",
       "75%    2014.000000   40.000000   159.000000   53.479808    0.857143   \n",
       "max    2014.000000   52.000000  5261.000000   96.000000    1.000000   \n",
       "\n",
       "             Rain        Temp         API  \n",
       "count  338.000000  338.000000  338.000000  \n",
       "mean     0.638860   28.465554   44.778686  \n",
       "std      0.283653    1.125020   10.660144  \n",
       "min      0.000000   25.000000   26.680357  \n",
       "25%      0.428571   27.714286   37.853463  \n",
       "50%      0.714286   28.571429   43.363690  \n",
       "75%      0.857143   29.285714   49.339782  \n",
       "max      1.000000   31.142857  113.954037  "
      ]
     },
     "execution_count": 393,
     "metadata": {},
     "output_type": "execute_result"
    }
   ],
   "source": [
    "final.describe()"
   ]
  },
  {
   "cell_type": "code",
   "execution_count": 402,
   "metadata": {},
   "outputs": [
    {
     "name": "stdout",
     "output_type": "stream",
     "text": [
      "<class 'pandas.core.frame.DataFrame'>\n",
      "RangeIndex: 338 entries, 0 to 337\n",
      "Data columns (total 9 columns):\n",
      "Year          338 non-null int64\n",
      "Week          338 non-null int64\n",
      "State         338 non-null object\n",
      "TotalCases    338 non-null int64\n",
      "Duration      338 non-null float64\n",
      "Mature        338 non-null float64\n",
      "Rain          338 non-null float64\n",
      "Temp          338 non-null float64\n",
      "API           338 non-null float64\n",
      "dtypes: float64(5), int64(3), object(1)\n",
      "memory usage: 23.8+ KB\n"
     ]
    }
   ],
   "source": [
    "final.info()"
   ]
  },
  {
   "cell_type": "markdown",
   "metadata": {},
   "source": [
    "### Visualisation"
   ]
  },
  {
   "cell_type": "code",
   "execution_count": 412,
   "metadata": {},
   "outputs": [
    {
     "name": "stdout",
     "output_type": "stream",
     "text": [
      "Using matplotlib backend: nbAgg\n"
     ]
    }
   ],
   "source": [
    "%matplotlib auto"
   ]
  },
  {
   "cell_type": "code",
   "execution_count": 426,
   "metadata": {},
   "outputs": [
    {
     "data": {
      "text/plain": [
       "<matplotlib.axes._subplots.AxesSubplot at 0x14cccecdd68>"
      ]
     },
     "execution_count": 426,
     "metadata": {},
     "output_type": "execute_result"
    },
    {
     "data": {
      "image/png": "[encoded data removed]",
      "text/plain": [
       "<matplotlib.figure.Figure at 0x14cc1c9fa20>"
      ]
     },
     "metadata": {},
     "output_type": "display_data"
    }
   ],
   "source": [
    "import seaborn as sns\n",
    "import matplotlib.pyplot as plt\n",
    "%matplotlib inline\n",
    "\n",
    "colormap = plt.cm.viridis\n",
    "plt.figure(figsize=(12,12))\n",
    "plt.title('Pearson Correlation of Features', y=1.05, size=15)\n",
    "sns.heatmap(final._get_numeric_data().corr(),linewidths=0.1,vmax=1.0, square=True, cmap=colormap, linecolor='white', annot=True)"
   ]
  },
  {
   "cell_type": "code",
   "execution_count": null,
   "metadata": {
    "collapsed": true
   },
   "outputs": [],
   "source": [
    "# Operation\n",
    "import pandas as pd\n",
    "import numpy as np\n",
    "import pickle as pkl\n",
    "from sklearn.pipeline import Pipeline\n",
    "import warnings\n",
    "\n",
    "# PLotting\n",
    "%matplotlib inline\n",
    "import matplotlib.pyplot as plt\n",
    "import seaborn as sns\n",
    "\n",
    "## Connection to SQL\n",
    "import pyodbc\n",
    "\n",
    "# Preprocessing\n",
    "from sklearn.feature_selection import VarianceThreshold\n",
    "from sklearn.feature_selection import chi2\n",
    "\n",
    "from statsmodels.stats.outliers_influence import variance_inflation_factor\n",
    "from sklearn.preprocessing import StandardScaler\n",
    "from sklearn.preprocessing import RobustScaler\n",
    "from sklearn.preprocessing import LabelEncoder\n",
    "from sklearn.model_selection import train_test_split\n",
    "from sklearn.model_selection import StratifiedKFold\n",
    "from sklearn.model_selection import cross_val_score\n",
    "from sklearn.model_selection import GridSearchCV\n",
    "from sklearn.model_selection import learning_curve\n",
    "from sklearn.model_selection import permutation_test_score\n",
    "from sklearn.feature_selection import SelectKBest\n",
    "\n",
    "\n",
    "# Feature Selection\n",
    "from sklearn.feature_selection import SelectFromModel\n",
    "\n",
    "# Models\n",
    "from sklearn.decomposition import PCA\n",
    "\n",
    "\n",
    "# Approximation\n",
    "from sklearn.naive_bayes import GaussianNB\n",
    "from sklearn.neighbors import NearestNeighbors\n",
    "\n",
    "# Regression Based\n",
    "from sklearn.linear_model import LogisticRegression\n",
    "from sklearn.linear_model import LogisticRegressionCV\n",
    "from sklearn.svm import LinearSVC\n",
    "from sklearn.svm import SVC\n",
    "\n",
    "# Tree Based\n",
    "from sklearn.tree import DecisionTreeClassifier\n",
    "from sklearn.ensemble import BaggingClassifier\n",
    "from sklearn.ensemble import RandomForestClassifier\n",
    "from sklearn.ensemble import ExtraTreesClassifier\n",
    "from sklearn.ensemble import RandomForestClassifier\n",
    "from sklearn.ensemble import VotingClassifier\n",
    "\n",
    "from sklearn.neighbors import KNeighborsClassifier\n",
    "\n",
    "# Gradient Boosting\n",
    "from sklearn.ensemble import AdaBoostClassifier\n",
    "from sklearn.ensemble import GradientBoostingClassifier\n",
    "\n",
    "# Neural Network\n",
    "\n",
    "from sklearn.neural_network import MLPClassifier\n",
    "from sklearn.neural_network import MLPRegressor\n",
    "\n",
    "\n",
    "## Evaluation Metrics\n",
    "from sklearn.metrics import confusion_matrix\n",
    "from sklearn.metrics import auc\n",
    "from sklearn.metrics import roc_auc_score\n",
    "from sklearn.metrics import roc_curve\n",
    "from sklearn.metrics import classification_report\n",
    "from sklearn.metrics import f1_score\n",
    "from sklearn.metrics import precision_score\n",
    "from sklearn.metrics import recall_score\n",
    "\n",
    "\n",
    "import io\n",
    "from sklearn.tree import export_graphviz"
   ]
  },
  {
   "cell_type": "code",
   "execution_count": 445,
   "metadata": {},
   "outputs": [
    {
     "name": "stdout",
     "output_type": "stream",
     "text": [
      "(64, 5) (64,)\n"
     ]
    }
   ],
   "source": [
    "## Read the dataset\n",
    "\n",
    "train = pd.read_csv('finaltrain.csv')\n",
    "test = pd.read_csv('finaltest.csv')\n",
    "\n",
    "train.head(3)\n",
    "Z = train.drop(['Unnamed: 0','Year','Week','State'], axis=1)\n",
    "\n",
    "X = train.drop(['Unnamed: 0','Year','Week','State','TotalCases'], axis=1)\n",
    "y = train.TotalCases\n",
    "\n",
    "print(X.shape, y.shape)"
   ]
  },
  {
   "cell_type": "code",
   "execution_count": 446,
   "metadata": {},
   "outputs": [
    {
     "data": {
      "text/plain": [
       "<matplotlib.axes._subplots.AxesSubplot at 0x14d03d23cf8>"
      ]
     },
     "execution_count": 446,
     "metadata": {},
     "output_type": "execute_result"
    },
    {
     "data": {
      "image/png": "[encoded data removed]",
      "text/plain": [
       "<matplotlib.figure.Figure at 0x14cee3c3668>"
      ]
     },
     "metadata": {},
     "output_type": "display_data"
    }
   ],
   "source": [
    "import seaborn as sns\n",
    "import matplotlib.pyplot as plt\n",
    "%matplotlib inline\n",
    "\n",
    "colormap = plt.cm.viridis\n",
    "plt.figure(figsize=(12,12))\n",
    "plt.title('Pearson Correlation of Features', y=1.05, size=15)\n",
    "sns.heatmap(Z._get_numeric_data().corr(),linewidths=0.1,vmax=1.0, square=True, cmap=colormap, linecolor='white', annot=True)"
   ]
  },
  {
   "cell_type": "code",
   "execution_count": 447,
   "metadata": {
    "collapsed": true
   },
   "outputs": [],
   "source": [
    "from sklearn.model_selection import train_test_split\n",
    "from sklearn.preprocessing import MinMaxScaler\n",
    "\n",
    "X_train, X_test, y_train, y_test = train_test_split(X, y,random_state=0)\n",
    "\n",
    "scaler = MinMaxScaler()\n",
    "\n",
    "X_train = scaler.fit_transform(X_train)\n",
    "X_test  = scaler.transform(X_test)"
   ]
  },
  {
   "cell_type": "code",
   "execution_count": 453,
   "metadata": {},
   "outputs": [
    {
     "name": "stdout",
     "output_type": "stream",
     "text": [
      "Accuracy of Logistic regression classifier on training set: 0.1458\n",
      "Accuracy of Logistic regression classifier on test set: 0.1250\n"
     ]
    }
   ],
   "source": [
    "from sklearn.linear_model import LogisticRegression\n",
    "\n",
    "clf = LogisticRegression(C=1).fit(X_train, y_train)\n",
    "print('Accuracy of Logistic regression classifier on training set: {:.4f}'\n",
    "     .format(clf.score(X_train, y_train)))\n",
    "print('Accuracy of Logistic regression classifier on test set: {:.4f}'\n",
    "     .format(clf.score(X_test, y_test)))"
   ]
  },
  {
   "cell_type": "code",
   "execution_count": 454,
   "metadata": {},
   "outputs": [
    {
     "name": "stdout",
     "output_type": "stream",
     "text": [
      "Accuracy of SVC rbf classifier on training set: 0.0625\n",
      "Accuracy of SVC rbf classifier on test set: 0.1250\n",
      "\n",
      "Accuracy of SVC linear classifier on training set: 0.5208\n",
      "Accuracy of SVC linear classifier on test set: 0.1250\n"
     ]
    }
   ],
   "source": [
    "from sklearn.svm import SVC\n",
    "from sklearn.svm import LinearSVC\n",
    "\n",
    "clfrbf= SVC(kernel='rbf', C=1).fit(X_train, y_train)\n",
    "\n",
    "print('Accuracy of SVC rbf classifier on training set: {:.4f}'\n",
    "     .format(clfrbf.score(X_train, y_train)))\n",
    "print('Accuracy of SVC rbf classifier on test set: {:.4f}'\n",
    "     .format(clfrbf.score(X_test, y_test)))\n",
    "\n",
    "print()\n",
    "\n",
    "clflinear= LinearSVC(C=1).fit(X_train, y_train)\n",
    "print('Accuracy of SVC linear classifier on training set: {:.4f}'\n",
    "     .format(clflinear.score(X_train, y_train)))\n",
    "print('Accuracy of SVC linear classifier on test set: {:.4f}'\n",
    "     .format(clflinear.score(X_test, y_test)))"
   ]
  }
 ],
 "metadata": {
  "kernelspec": {
   "display_name": "Python 3",
   "language": "python",
   "name": "python3"
  },
  "language_info": {
   "codemirror_mode": {
    "name": "ipython",
    "version": 3
   },
   "file_extension": ".py",
   "mimetype": "text/x-python",
   "name": "python",
   "nbconvert_exporter": "python",
   "pygments_lexer": "ipython3",
   "version": "3.6.1"
  }
 },
 "nbformat": 4,
 "nbformat_minor": 2
}
