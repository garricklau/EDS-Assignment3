{
 "cells": [
  {
   "cell_type": "markdown",
   "metadata": {},
   "source": [
    "## Assignment 3: Web Scraping\n",
    "\n",
    "For this assignment, you are required to scrape data from e-commerce or other websites such as [Lelong](http://www.lelong.com.my), [Lazada](http://www.lazada.com.my/), [Mudah](http://www.mudah.my/), [iProperty](https://www.iproperty.com.my/), [Booking](http://www.booking.com), [Expedia](https://www.expedia.com.my/) etc.\n",
    "\n",
    "You are required to fork this Jupyter Notebook from my Github [here](https://github.com/kuanhoong/EDS-Assignment3 ) and then scrape the latest 1000 items from one of the website mentioned above. The scraped data should include:\n",
    "\n",
    "* Product Name/Product Title\n",
    "* Amount/Price\n",
    "* Brand\n",
    "* Comments/Reviews\n",
    "* Number of views\n",
    "\n",
    "In addition, you are required to export the scraped data to dataframe format and also save a copy in csv format. Upon successful extracting data to dataframe, you are required to do a data analysis on the data. \n",
    "\n",
    "Your analysis should provide answers to the following questions:\n",
    "* What do you think is interesting about this data? Tell a story about some interesting thing you have discovered by looking at the data.\n",
    "* Visualize your data with matplotlib or with folium library package.\n",
    "\n",
    "For example, you might consider whether there is a difference in pricings at different times doing the day or city, or whether other factors that influnced the pricings etc. Another thing you might consider is whether there is a relationship between the pricing and number of reviews or comments.\n",
    "\n",
    "Show your analysis workflow in your Jupyter notebook.\n",
    "\n",
    "The final submission should be pushed back to your respective Github account."
   ]
  },
  {
   "cell_type": "markdown",
   "metadata": {},
   "source": [
    "### Folium\n",
    "\n",
    "[Folium](https://github.com/python-visualization/folium) makes it easy to visualize data that's been manipulated in Python on an interactive Leaflet map. It enables both the binding of data to a map for choropleth visualizations as well as passing Vincent/Vega visualizations as markers on the map."
   ]
  },
  {
   "cell_type": "code",
   "execution_count": 2,
   "metadata": {
    "collapsed": true
   },
   "outputs": [],
   "source": [
    "import pandas as pd\n",
    "import re\n",
    "import numpy as np\n",
    "import folium\n",
    "import matplotlib.pyplot as plt\n",
    "%matplotlib inline\n",
    "from bs4 import BeautifulSoup\n",
    "import requests"
   ]
  },
  {
   "cell_type": "code",
   "execution_count": 8,
   "metadata": {},
   "outputs": [
    {
     "data": {
      "text/html": [
       "<div style=\"width:100%;\"><div style=\"position:relative;width:100%;height:0;padding-bottom:60%;\"><iframe src=\"data:text/html;charset=utf-8;base64,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\" style=\"position:absolute;width:100%;height:100%;left:0;top:0;border:none !important;\" allowfullscreen webkitallowfullscreen mozallowfullscreen></iframe></div></div>"
      ],
      "text/plain": [
       "<folium.folium.Map at 0x2be5fec9588>"
      ]
     },
     "execution_count": 8,
     "metadata": {},
     "output_type": "execute_result"
    }
   ],
   "source": [
    "mapit = None\n",
    "latlon = [ (3.144473, 101.708722), (3.144473, 101.708722),(3.135732, 101.686989),(2.992861, 101.792900)]\n",
    "for coord in latlon:\n",
    "    mapit = folium.Map( location=[ coord[0], coord[1] ] )\n",
    "    folium.Marker([3.144473, 101.708722], icon=folium.Icon(color='blue',icon='star'), popup='Federal Hotel').add_to(mapit)\n",
    "    folium.Marker([3.156374, 101.714579], icon=folium.Icon(color='green',icon='info-sign') , popup='Mandarin Oriental').add_to(mapit)\n",
    "    folium.Marker([3.135732, 101.686989], icon=folium.Icon(color='red',icon='star') , popup='Le Meridien').add_to(mapit)\n",
    "    folium.Marker([2.992861, 101.792900], icon=folium.Icon(color='red',icon='info-sign') , popup='Hospital Kajang').add_to(mapit)\n",
    "mapit"
   ]
  },
  {
   "cell_type": "code",
   "execution_count": 75,
   "metadata": {},
   "outputs": [
    {
     "name": "stdout",
     "output_type": "stream",
     "text": [
      "Hospital Kajang, Jalan Semenyih, Taman Angkasa Indah, Sungai Chua, Kajang, Selangor, 43000, Malaysia\n",
      "(2.9929656, 101.7930829)\n"
     ]
    }
   ],
   "source": [
    "from geopy.geocoders import Nominatim\n",
    "geolocator = Nominatim()\n",
    "location = geolocator.geocode('Hospital Kajang')\n",
    "print(location.address)\n",
    "print((location.latitude,location.longitude))"
   ]
  },
  {
   "cell_type": "code",
   "execution_count": 10,
   "metadata": {},
   "outputs": [
    {
     "data": {
      "text/plain": [
       "['RM 199.00',\n",
       " 'RM 169.00',\n",
       " 'RM 17.90',\n",
       " 'RM 20.10',\n",
       " 'RM 24.90',\n",
       " 'RM 199.00',\n",
       " 'RM 25.99',\n",
       " 'RM 5.90',\n",
       " 'RM 10.00',\n",
       " 'RM 159.00',\n",
       " 'RM 199.00',\n",
       " 'RM 4,849.00',\n",
       " 'RM 5,499.00',\n",
       " 'RM 3,949.00',\n",
       " 'RM 4,599.00',\n",
       " 'RM 3,499.00',\n",
       " 'RM 4,149.00',\n",
       " 'RM 4,349.00',\n",
       " 'RM 4,999.00',\n",
       " 'RM 3,449.00',\n",
       " 'RM 4,099.00',\n",
       " 'RM 2,999.00',\n",
       " 'RM 3,649.00',\n",
       " 'RM 699.00',\n",
       " 'RM 38.00',\n",
       " 'RM 159.00',\n",
       " 'RM 47.00',\n",
       " 'RM 3,099.00',\n",
       " 'RM 3,499.00',\n",
       " 'RM 89.00',\n",
       " 'RM 2.30',\n",
       " 'RM 198.00',\n",
       " 'RM 233.20',\n",
       " 'RM 179.14',\n",
       " 'RM 212.00',\n",
       " 'RM 89.00',\n",
       " 'RM 49.84',\n",
       " 'RM 135.00',\n",
       " 'RM 222.60',\n",
       " 'RM 254.40',\n",
       " 'RM 254.00',\n",
       " 'RM 29.90',\n",
       " 'RM 449.00',\n",
       " 'RM 19.90',\n",
       " 'RM 10.00',\n",
       " 'RM 29.90',\n",
       " 'RM 2,669.00',\n",
       " 'RM 14.90',\n",
       " 'RM 3,419.00',\n",
       " 'RM 89.98',\n",
       " 'RM 33.98',\n",
       " 'RM 18.98',\n",
       " 'RM 58.90',\n",
       " 'RM 68.90',\n",
       " 'RM 169.98',\n",
       " 'RM 92.98',\n",
       " 'RM 36.98',\n",
       " 'RM 132.98',\n",
       " 'RM 15.00',\n",
       " 'RM 82.90']"
      ]
     },
     "execution_count": 10,
     "metadata": {},
     "output_type": "execute_result"
    }
   ],
   "source": [
    "# scrape from lelong\n",
    "\n",
    "# find the pattern for the first page\n",
    "url = 'https://www.lelong.com.my/catalog/all/list?TheKeyword=ipad+pro&D='\n",
    "\n",
    "# write a loop to scrape from page 1 to the last page\n",
    "\n",
    "product_name=[]\n",
    "price=[]\n",
    "for page in range(1,2): # 8 pages, 9 not included, always test on 2 first\n",
    "    url_page = url+str(page)\n",
    "    #print(url_page) # check if get correct address\n",
    "    scrape = requests.get(url_page)\n",
    "    soup = BeautifulSoup(scrape.content, 'lxml')\n",
    "    #print(soup)\n",
    "    link = soup.find_all('div',{'class':'item','class':'summary'})\n",
    "    link1= soup.find_all('div',{'class':'col total'})\n",
    "    #print(link) \n",
    "    length = len(link) #got 60 items\n",
    "    #print(length) #for every link, i am going to look for th product name\n",
    "    #print(link[0]) #write a for loop to get all the name from this\n",
    "    for i in range(0,length): #0-59 got 60 item\n",
    "        name = link[i].a.get('title')\n",
    "        prices = link1[i].b.string\n",
    "        product_name.append(name)\n",
    "        price.append(prices) #create a list and add to it\n",
    "        \n",
    "price"
   ]
  },
  {
   "cell_type": "code",
   "execution_count": 39,
   "metadata": {
    "collapsed": true
   },
   "outputs": [],
   "source": [
    "# write to csv\n",
    "# convert the list to a pandas dataframe\n",
    "\n",
    "df = pd.DataFrame({'name':product_name, 'price':price})\n",
    "df['price']= df['price'].str.replace('RM ','')\n",
    "df.to_csv('output.csv', index=False)\n",
    "\n"
   ]
  },
  {
   "cell_type": "code",
   "execution_count": 255,
   "metadata": {},
   "outputs": [],
   "source": [
    "#Garrick\n",
    "\n",
    "# scrape from lelong\n",
    "\n",
    "#PowerBank Price according to sellers from KL\n",
    "\n",
    "url = 'https://www.lelong.com.my/catalog/all/list/?TheKeyword=power+bank&StateID=1&D='\n",
    "\n",
    "name=[]\n",
    "price=[]\n",
    "seller=[]\n",
    "view=[]\n",
    "sold= []\n",
    "\n",
    "\n",
    "for page in range(1,23): \n",
    "    url_page = url+str(page)\n",
    "    scrape = requests.get(url_page)\n",
    "    soup = BeautifulSoup(scrape.content, 'lxml')\n",
    "    link = soup.find_all('div',{'class':'item','class':'summary'})\n",
    "    link1= soup.find_all('div',{'class':'col total'})\n",
    "    #link2= soup.find_all('div',{'class':'seller inline-block'})\n",
    "    link3= soup.find_all('span',{'class':'hit fontsize12'})\n",
    "    link4= soup.find_all('div',{'class':'pic-box'})\n",
    "    length = len(link) \n",
    "    \n",
    "    for i in range(0,length): \n",
    "        names = link[i].a.get('title')\n",
    "        prices = link1[i].b.string\n",
    "        if(link[i].find('div',class_=\"seller inline-block\") is None):\n",
    "            seller.append('NoName')\n",
    "        else:\n",
    "            seller.append(link[i].find('div',class_=\"seller inline-block\").span.a.get_text())  \n",
    "        views= link3[i].string\n",
    "        name.append(names)\n",
    "        price.append(prices) \n",
    "        view.append(views)\n",
    "        if(link4[i].find('span',class_=\"list-sold\") is None):\n",
    "            sold.append('0')\n",
    "        else:\n",
    "            sold.append(link4[i].get_text())\n"
   ]
  },
  {
   "cell_type": "code",
   "execution_count": 256,
   "metadata": {},
   "outputs": [],
   "source": [
    "#Save to CSV\n",
    "\n",
    "df = pd.DataFrame({'name':name, 'price':price, 'seller':seller, 'view':view, 'sold':sold})\n",
    "#Clean Price\n",
    "df['price']= df['price'].str.replace('RM ','')\n",
    "#Clean View\n",
    "df['view']=df['view'].str.replace(r\"\\(*\",\"\")\n",
    "df['view']=df['view'].str.replace(r\"\\)*\",\"\")\n",
    "df['view']=df['view'].str.replace('\\r\\n','')\n",
    "df['view']=df['view'].str.replace(' ','')\n",
    "df['view']=df['view'].str.replace('View','')\n",
    "#Clean Sold\n",
    "df['sold']=df['sold'].str.replace('\\n','')\n",
    "df['sold']=df['sold'].str.replace(' ','')\n",
    "df['sold']=df['sold'].str.replace('Sold','')\n",
    "df.price = df.price.astype(float)\n",
    "df.view = df.view.astype(int)\n",
    "df.sold = df.sold.astype(int)\n",
    "df.price.replace('0', np.nan)\n",
    "\n",
    "df.to_csv('power.csv', index=False)"
   ]
  },
  {
   "cell_type": "code",
   "execution_count": 257,
   "metadata": {},
   "outputs": [
    {
     "name": "stdout",
     "output_type": "stream",
     "text": [
      "Total Seller\n",
      "1281\n",
      "\n",
      "Seller Names\n",
      "['OneApple ' 'MMSRetail ' 'thengst ' 'ecuberetail ' 'unipro '\n",
      " 'GofutureGadget ' 'eMonsterDigital ' 'xsoho ' 'Jayacom ' 'mmsretails01 '\n",
      " 'eBestSeller ' 'chriss79 ' 'limgrouptrading ' 'QineticLife ' 'dashermart '\n",
      " 'tybluetech ' 'chocobozz ' 'tetrahedron ' 'ecgrab ' 'WapInTeleshop '\n",
      " 'dcswebstore ' 'Chocobozz ' 'winsonyap86 ' 'borongstore ' 'xmmx '\n",
      " 'MoreVision ' 'borong2u ' 'kwingcollection ' 'ONAKMOBILE ' 'Dprovider '\n",
      " 'hypetech ' 'JustbuyMalaysia ' 'Hello2U ' 'myipmart ' '2by2mobile '\n",
      " 'GBonline ' 'BananaMilkC ' 'lemonbread ' 'cwchoo85 ' 'castleIT '\n",
      " 'addonliving ' 'FotoShangriLa ' 'kys_auto ' 'LittleatSasa '\n",
      " 'myitcomputer ' 'movegift ' 'bee ' 'DigitalsMania ' 'ladivafestiva '\n",
      " 'linguine827 ' 'rhythm6 ' 'myeasygadget ' 'crazyboy7777 ' 'zoeempire '\n",
      " 'mygameshop ' 'vkmobilegadget ' 'cmnmobile ' 'gadgetbin ' 'lay1211 '\n",
      " 'verykeat ' 'Dfaro ' 'AutoFans ' 'atostore ' 'infinityelink ' 'cavarii '\n",
      " 'SMARTSS ' 'gadgetzone6 ' 'jayacom ' 'Flashtrend ' '1StopDeal ' 'lover88 '\n",
      " 'jenny335500 ' 'mobilegeargadget ' 'NoName' 'NanHuaETech ' 'marcusee '\n",
      " 'ebosses ' 'SatuGadgetDotCom ' 'hubbyhoneyworld '\n",
      " 'GPBatteries Official Store' 'iphonecase ' 'unicornbiz ' 'MyMobius '\n",
      " 'bagstation ' 'AlwaysLowPrices ' 'wesave ' 'prizedgoods ' 'PcPlanet '\n",
      " 'truegamers ' 'DelphinusGifts ' 'supermumbaby ' 'benben001 '\n",
      " 'zackpremier ' 'pctmarketing ' 'ginnieooi ' 'TradeOnline ' 'Multitrader '\n",
      " 'darenthee ' 'wechatphone ' 'BrightstarOnline ' 'NCreativeHouse '\n",
      " '5151WORNALL ' 'STAR_ICON ' 'MyShop8 ' 'GPbatstore ' 'fastlite '\n",
      " 'Me2You88 ' 'nkloong08 ' 'MountOn ' 'gamehypermart ' 'buy1st '\n",
      " 'zidiamarketing ' 'qbmall ' 'speedysend ' 'yourchoice1923 ' 'Summerbuy '\n",
      " 'jftime ' '12volts ' 'Aurous ' 'MaxAudio ' 'GoBorong ' 'Store7teen '\n",
      " 'asiacommsales ' 'bespecialtou ' 'maisondeluxe ' 'chewhoung ' 'dvinez '\n",
      " 'uuonline ' 'vknowsystems ' 'best4u99 ' 'DasherPlus ' 'ESONOW '\n",
      " 'pinnosea ' 'Unitions ' 'SECCSTORE ' 'momogenki ' 'munhoo ' 'louis230972 '\n",
      " 'puslisi ' 'mobile2go ']\n",
      "\n",
      "Total Unique Seller\n",
      "140\n",
      "\n"
     ]
    }
   ],
   "source": [
    "#Seller Information\n",
    "print('Total Seller')\n",
    "print(df.seller.count())\n",
    "print()\n",
    "\n",
    "print('Seller Names')\n",
    "print(df.seller.unique())\n",
    "print()\n",
    "\n",
    "print('Total Unique Seller')\n",
    "print(len(df.seller.unique()))\n",
    "print()\n"
   ]
  },
  {
   "cell_type": "code",
   "execution_count": 258,
   "metadata": {},
   "outputs": [
    {
     "name": "stdout",
     "output_type": "stream",
     "text": [
      "castleIT            148\n",
      "SMARTSS              98\n",
      "chocobozz            88\n",
      "borongstore          64\n",
      "myeasygadget         59\n",
      "cmnmobile            49\n",
      "NoName               45\n",
      "movegift             37\n",
      "ONAKMOBILE           37\n",
      "wesave               30\n",
      "JustbuyMalaysia      29\n",
      "myipmart             24\n",
      "MyMobius             24\n",
      "xsoho                23\n",
      "ginnieooi            23\n",
      "infinityelink        18\n",
      "MMSRetail            17\n",
      "ecuberetail          16\n",
      "BananaMilkC          15\n",
      "dashermart           14\n",
      "tetrahedron          13\n",
      "winsonyap86          13\n",
      "darenthee            12\n",
      "speedysend           12\n",
      "atostore             11\n",
      "eMonsterDigital      11\n",
      "Flashtrend           11\n",
      "FotoShangriLa        11\n",
      "jayacom              10\n",
      "unipro               10\n",
      "                   ... \n",
      "bespecialtou          1\n",
      "asiacommsales         1\n",
      "Me2You88              1\n",
      "Hello2U               1\n",
      "ebosses               1\n",
      "DelphinusGifts        1\n",
      "zidiamarketing        1\n",
      "maisondeluxe          1\n",
      "MoreVision            1\n",
      "Unitions              1\n",
      "addonliving           1\n",
      "STAR_ICON             1\n",
      "nkloong08             1\n",
      "bagstation            1\n",
      "pctmarketing          1\n",
      "AutoFans              1\n",
      "ecgrab                1\n",
      "buy1st                1\n",
      "2by2mobile            1\n",
      "fastlite              1\n",
      "dvinez                1\n",
      "supermumbaby          1\n",
      "OneApple              1\n",
      "louis230972           1\n",
      "uuonline              1\n",
      "ladivafestiva         1\n",
      "Store7teen            1\n",
      "cavarii               1\n",
      "puslisi               1\n",
      "Multitrader           1\n",
      "Name: seller, Length: 140, dtype: int64\n"
     ]
    }
   ],
   "source": [
    "#Seller Sales Post Count\n",
    "print(df['seller'].value_counts())\n"
   ]
  },
  {
   "cell_type": "code",
   "execution_count": 259,
   "metadata": {},
   "outputs": [
    {
     "data": {
      "image/png": "[encoded data removed]",
      "text/plain": [
       "<matplotlib.figure.Figure at 0x25049024780>"
      ]
     },
     "metadata": {},
     "output_type": "display_data"
    }
   ],
   "source": [
    "df['seller'].value_counts().head(5).plot();"
   ]
  },
  {
   "cell_type": "code",
   "execution_count": 269,
   "metadata": {},
   "outputs": [
    {
     "data": {
      "text/plain": [
       "seller            name                                                                  \n",
       "12volts           10,000mAh Multi Function Car Jump Start Power Bank Black                  1\n",
       "                  10,000mAh Multi Function Car Jump Start Power Bank Green                  1\n",
       "                  Martech 20,000mAh Power Bank                                              1\n",
       "                  Multi-function 14000 mAH Power Bank Car Jump Start Portable Charger       1\n",
       "1StopDeal         100% Genuine REMAX 6000mAh Super alloy Dual USB Powerbank Power Bank      1\n",
       "                  100% ORIGINAL REMAX Proda Gentleman Powerbank 12000mAh Power Bank         1\n",
       "2by2mobile        ORIGINAL XIAOMI MI POWER BANK 2 POWERBANK 10000mAh Quick Charge 2.0       1\n",
       "5151WORNALL       5V 2A USB Mobile Power Bank Charger For 18650 Battery                     1\n",
       "                  DIY SINGLE CELL LI-ION 18650 POWER BANK Choose Your battery               1\n",
       "                  DIY Xiaomi 18650 Power Bank Battery Casing                                1\n",
       "                  Ferrari F52 5200mAh Power Bank Limited Time Ending stock offer            1\n",
       "AlwaysLowPrices    Solar Power Bank Battery Charger 5000 mAH Dual USB LED Light (Black)     1\n",
       "                   Solar Power Bank Battery Charger 5000 mAH Dual USB LED Light (Blue)      1\n",
       "                   Solar Power Bank Battery Charger 5000 mAH Dual USB LED Light (Green)     1\n",
       "                   Solar Power Bank Battery Charger 5000 mAH Dual USB LED Light (Yellow)    1\n",
       "Aurous            Multi function Jump Starter Car Emergency Power Bank 12000mAH             1\n",
       "AutoFans          AUDIOLAB Multi Function Power Bank & Car Battery Jump Starter [AL-02]     1\n",
       "BananaMilkC        Mi Xiaomi Power Bank 5000mAh Ultra Thin 9.9mm                            1\n",
       "                  Baseus External Power Bank + Protection Case for iPhone                   1\n",
       "                  Huawei Power Bank 10000mAh / 20000mAh Fast Charger powerbank              1\n",
       "                  Malaysia Authorized Original Xiao Mi Ultra Thin Power Bank 5000mAh        1\n",
       "                  Mi Power Bank 5000mAh Ultra Thin 9.9mm                                    1\n",
       "                  Original Mi Xiaomi Power Bank 5000mAh Ultra Thin 9.9mm                    1\n",
       "                  Original PINENG Power Bank PN-960 6000mAh Extra slim                      1\n",
       "                  Original Xiaomi Mi Power Bank 5000mAh Ultra Thin 9.9mm                    1\n",
       "                  REMAX PRODA 10000mAh Power Bank                                           1\n",
       "                  Xia Mi Mi Power Bank 5000mAh Ultra Thin 9.9mm                             1\n",
       "                  XiaoMi Mi Power Bank Ultra Thin 5000mAh Original Malaysia Authorized      1\n",
       "                  Xiaomi Mi Power Bank 5000mAh Ultra Thin 9.9mm                             1\n",
       "                  Xiaomi Mi Power Bank 5000mAh ultra Thin 9.9mm Malaysia Authorized         1\n",
       "                                                                                           ..\n",
       "xsoho             100% Original REMAX Proda 10000mAh 3.1A SMART Power Bank Battery *1 YR    1\n",
       "                  100% Original REMAX Proda 12000mAh 3.1A SMART Power Bank Battery *1 YR    1\n",
       "                  100% Original REMAX WK 2400mAh Lipstick Mini Power Bank Battery *1 YR     1\n",
       "                  BASEUS Plai 10000mAh SMART Dual Input USB Slim Power Bank Battery         1\n",
       "                  JOYROOM Candy 10000mAh SMART DUAL Input USB Slim Power Bank Battery       1\n",
       "                  REMAX Linon Pro RPP-53 10000mAh SMART Dual USB Power Bank Battery         1\n",
       "                  REMAX Youth RPL-19 10000mAh SMART Dual USB Slim Power Bank Battery        1\n",
       "                  ROCK Cola 10000mAh 2.1A SMART Dual USB Slim Power Bank Battery *1 YR      1\n",
       "                  ROCK Cola 10000mAh Qualcomm 2.0 Quick Charger Power Bank Battery *1 YR    1\n",
       "                  ROCK Odin 10000mAh 2.4A SMART Dual Input USB Slim Power Bank Battery      1\n",
       "                  ROCK Soda 10000mAh 3.4A Dual USB Slim Power Bank Battery *1 YR WARR       1\n",
       "                  USAMS 10000mAh 2.1A SMART Dual USB Slim Power Bank Battery *1 YR WARR     1\n",
       "                  USAMS Travel 10000mAh 2A SMART Dual USB LED Pocket Power Bank Battery     1\n",
       "                  iPhone 6 6S Plus ROCK P1 2800mAh External Battery Power Bank Case         1\n",
       "                  iPhone 6 6S ROCK P1 2000mAh External Battery Power Bank Case Cover        1\n",
       "                  iPhone 7 BASEUS Plaid 2500mAh Slim External Battery Power Bank Case       2\n",
       "                  iPhone 7 Plus BASEUS Plaid 3650mAh External Battery Power Bank Case       1\n",
       "yourchoice1923    100% Genuine REMAX 6000mAh Super alloy Powerbank Power Bank               1\n",
       "                  Qi Wireless 10000mAh Power Bank with 2 USB port 2.1A 1.0A powerbank       1\n",
       "zackpremier       Power Bank PN-960 6000 mAh - Original PINENG - 1yr Warr. c/w pouch        1\n",
       "                  Power Bank PN-963 10000 mAh - Original PINENG-  1yr Warr. c/w pouch       1\n",
       "                  Power Bank PN-969 - 20000 mAh - Original PINENG - 1yr Warr. c/w pouch     1\n",
       "                  Power Bank PN-983 10000 mAh - Original PINENG - 1yr Warr. c/w pouch       1\n",
       "                  REMAX Coozy Power Bank 10000 mAh - Various Artwork Selections             1\n",
       "                  cheero Power Bank - Power Plus 3 13400mAh - 1yr Warr                      1\n",
       "                  cheero Power Plus 10050mAh DANBOARD Flowers Series Power Bank             1\n",
       "                  cheero Power Plus 3 Premium 20100mAh - Power Bank                         1\n",
       "zidiamarketing    Xiaomi 5000/10400/10000/16000mAh Power Bank Silicone Case XIAOMI Cover    1\n",
       "zoeempire         PINENG PN-928 10000mAh Power Bank Black / White                           1\n",
       "                  PINENG PN-929 15000mAh Power Bank Black / White                           1\n",
       "Name: sold, Length: 1218, dtype: int64"
      ]
     },
     "execution_count": 269,
     "metadata": {},
     "output_type": "execute_result"
    }
   ],
   "source": [
    "df.groupby(['seller', 'name'])['sold'].count()"
   ]
  },
  {
   "cell_type": "code",
   "execution_count": 270,
   "metadata": {},
   "outputs": [
    {
     "data": {
      "text/html": [
       "<div>\n",
       "<style>\n",
       "    .dataframe thead tr:only-child th {\n",
       "        text-align: right;\n",
       "    }\n",
       "\n",
       "    .dataframe thead th {\n",
       "        text-align: left;\n",
       "    }\n",
       "\n",
       "    .dataframe tbody tr th {\n",
       "        vertical-align: top;\n",
       "    }\n",
       "</style>\n",
       "<table border=\"1\" class=\"dataframe\">\n",
       "  <thead>\n",
       "    <tr style=\"text-align: right;\">\n",
       "      <th></th>\n",
       "      <th>price</th>\n",
       "      <th>view</th>\n",
       "      <th>sold</th>\n",
       "    </tr>\n",
       "  </thead>\n",
       "  <tbody>\n",
       "    <tr>\n",
       "      <th>count</th>\n",
       "      <td>1281.000000</td>\n",
       "      <td>1281.000000</td>\n",
       "      <td>1281.000000</td>\n",
       "    </tr>\n",
       "    <tr>\n",
       "      <th>mean</th>\n",
       "      <td>105.835691</td>\n",
       "      <td>664.026542</td>\n",
       "      <td>6.135051</td>\n",
       "    </tr>\n",
       "    <tr>\n",
       "      <th>std</th>\n",
       "      <td>72.144203</td>\n",
       "      <td>2114.681225</td>\n",
       "      <td>55.529930</td>\n",
       "    </tr>\n",
       "    <tr>\n",
       "      <th>min</th>\n",
       "      <td>0.000000</td>\n",
       "      <td>0.000000</td>\n",
       "      <td>0.000000</td>\n",
       "    </tr>\n",
       "    <tr>\n",
       "      <th>25%</th>\n",
       "      <td>58.800000</td>\n",
       "      <td>59.000000</td>\n",
       "      <td>0.000000</td>\n",
       "    </tr>\n",
       "    <tr>\n",
       "      <th>50%</th>\n",
       "      <td>85.000000</td>\n",
       "      <td>146.000000</td>\n",
       "      <td>0.000000</td>\n",
       "    </tr>\n",
       "    <tr>\n",
       "      <th>75%</th>\n",
       "      <td>129.900000</td>\n",
       "      <td>435.000000</td>\n",
       "      <td>0.000000</td>\n",
       "    </tr>\n",
       "    <tr>\n",
       "      <th>max</th>\n",
       "      <td>581.940000</td>\n",
       "      <td>30192.000000</td>\n",
       "      <td>1723.000000</td>\n",
       "    </tr>\n",
       "  </tbody>\n",
       "</table>\n",
       "</div>"
      ],
      "text/plain": [
       "             price          view         sold\n",
       "count  1281.000000   1281.000000  1281.000000\n",
       "mean    105.835691    664.026542     6.135051\n",
       "std      72.144203   2114.681225    55.529930\n",
       "min       0.000000      0.000000     0.000000\n",
       "25%      58.800000     59.000000     0.000000\n",
       "50%      85.000000    146.000000     0.000000\n",
       "75%     129.900000    435.000000     0.000000\n",
       "max     581.940000  30192.000000  1723.000000"
      ]
     },
     "execution_count": 270,
     "metadata": {},
     "output_type": "execute_result"
    }
   ],
   "source": [
    "df.loc[:,['price','view','sold']].describe()"
   ]
  },
  {
   "cell_type": "code",
   "execution_count": 261,
   "metadata": {},
   "outputs": [
    {
     "data": {
      "text/html": [
       "<div>\n",
       "<style>\n",
       "    .dataframe thead tr:only-child th {\n",
       "        text-align: right;\n",
       "    }\n",
       "\n",
       "    .dataframe thead th {\n",
       "        text-align: left;\n",
       "    }\n",
       "\n",
       "    .dataframe tbody tr th {\n",
       "        vertical-align: top;\n",
       "    }\n",
       "</style>\n",
       "<table border=\"1\" class=\"dataframe\">\n",
       "  <thead>\n",
       "    <tr style=\"text-align: right;\">\n",
       "      <th></th>\n",
       "      <th>name</th>\n",
       "      <th>price</th>\n",
       "      <th>seller</th>\n",
       "      <th>sold</th>\n",
       "      <th>view</th>\n",
       "    </tr>\n",
       "  </thead>\n",
       "  <tbody>\n",
       "    <tr>\n",
       "      <th>1</th>\n",
       "      <td>100% Original Pineng Powerbank Pn969 Pn-969 20...</td>\n",
       "      <td>68.00</td>\n",
       "      <td>MMSRetail</td>\n",
       "      <td>29</td>\n",
       "      <td>30192</td>\n",
       "    </tr>\n",
       "    <tr>\n",
       "      <th>1213</th>\n",
       "      <td>STOCK CLEARANCE PROMOTION !!!! YOOBAO POWER BA...</td>\n",
       "      <td>25.00</td>\n",
       "      <td>infinityelink</td>\n",
       "      <td>216</td>\n",
       "      <td>30170</td>\n",
       "    </tr>\n",
       "    <tr>\n",
       "      <th>390</th>\n",
       "      <td>PINENG 10000mAh PN968 Power Bank 100% Original...</td>\n",
       "      <td>54.00</td>\n",
       "      <td>dashermart</td>\n",
       "      <td>1723</td>\n",
       "      <td>30014</td>\n",
       "    </tr>\n",
       "    <tr>\n",
       "      <th>1232</th>\n",
       "      <td>[Buy1Free1]Super Slim Aluminium Polymer Power ...</td>\n",
       "      <td>99.00</td>\n",
       "      <td>GoBorong</td>\n",
       "      <td>228</td>\n",
       "      <td>16879</td>\n",
       "    </tr>\n",
       "    <tr>\n",
       "      <th>1217</th>\n",
       "      <td>Multi-function 14000 mAH Power Bank Car Jump S...</td>\n",
       "      <td>253.34</td>\n",
       "      <td>12volts</td>\n",
       "      <td>60</td>\n",
       "      <td>16218</td>\n",
       "    </tr>\n",
       "  </tbody>\n",
       "</table>\n",
       "</div>"
      ],
      "text/plain": [
       "                                                   name   price  \\\n",
       "1     100% Original Pineng Powerbank Pn969 Pn-969 20...   68.00   \n",
       "1213  STOCK CLEARANCE PROMOTION !!!! YOOBAO POWER BA...   25.00   \n",
       "390   PINENG 10000mAh PN968 Power Bank 100% Original...   54.00   \n",
       "1232  [Buy1Free1]Super Slim Aluminium Polymer Power ...   99.00   \n",
       "1217  Multi-function 14000 mAH Power Bank Car Jump S...  253.34   \n",
       "\n",
       "              seller  sold   view  \n",
       "1         MMSRetail     29  30192  \n",
       "1213  infinityelink    216  30170  \n",
       "390      dashermart   1723  30014  \n",
       "1232       GoBorong    228  16879  \n",
       "1217        12volts     60  16218  "
      ]
     },
     "execution_count": 261,
     "metadata": {},
     "output_type": "execute_result"
    }
   ],
   "source": [
    "#Top 5 Viewed\n",
    "df.sort_values('view', ascending=False).head()"
   ]
  },
  {
   "cell_type": "code",
   "execution_count": 262,
   "metadata": {},
   "outputs": [
    {
     "data": {
      "text/html": [
       "<div>\n",
       "<style>\n",
       "    .dataframe thead tr:only-child th {\n",
       "        text-align: right;\n",
       "    }\n",
       "\n",
       "    .dataframe thead th {\n",
       "        text-align: left;\n",
       "    }\n",
       "\n",
       "    .dataframe tbody tr th {\n",
       "        vertical-align: top;\n",
       "    }\n",
       "</style>\n",
       "<table border=\"1\" class=\"dataframe\">\n",
       "  <thead>\n",
       "    <tr style=\"text-align: right;\">\n",
       "      <th></th>\n",
       "      <th>name</th>\n",
       "      <th>price</th>\n",
       "      <th>seller</th>\n",
       "      <th>sold</th>\n",
       "      <th>view</th>\n",
       "    </tr>\n",
       "  </thead>\n",
       "  <tbody>\n",
       "    <tr>\n",
       "      <th>390</th>\n",
       "      <td>PINENG 10000mAh PN968 Power Bank 100% Original...</td>\n",
       "      <td>54.00</td>\n",
       "      <td>dashermart</td>\n",
       "      <td>1723</td>\n",
       "      <td>30014</td>\n",
       "    </tr>\n",
       "    <tr>\n",
       "      <th>1160</th>\n",
       "      <td>Xiaomi 5000/10400/10000/16000mAh Power Bank Si...</td>\n",
       "      <td>2.99</td>\n",
       "      <td>Store7teen</td>\n",
       "      <td>520</td>\n",
       "      <td>4874</td>\n",
       "    </tr>\n",
       "    <tr>\n",
       "      <th>430</th>\n",
       "      <td>100% Genuine REMAX 6000mAh Super alloy Dual US...</td>\n",
       "      <td>85.90</td>\n",
       "      <td>1StopDeal</td>\n",
       "      <td>339</td>\n",
       "      <td>1557</td>\n",
       "    </tr>\n",
       "    <tr>\n",
       "      <th>11</th>\n",
       "      <td>100% ORIGINAL PINENG POWERBANK POWER BANK PN95...</td>\n",
       "      <td>34.00</td>\n",
       "      <td>MMSRetail</td>\n",
       "      <td>265</td>\n",
       "      <td>14844</td>\n",
       "    </tr>\n",
       "    <tr>\n",
       "      <th>10</th>\n",
       "      <td>Original Mi Ver 2 PowerBank XiaoMi 10000mAh Ve...</td>\n",
       "      <td>64.00</td>\n",
       "      <td>MMSRetail</td>\n",
       "      <td>252</td>\n",
       "      <td>9783</td>\n",
       "    </tr>\n",
       "  </tbody>\n",
       "</table>\n",
       "</div>"
      ],
      "text/plain": [
       "                                                   name  price       seller  \\\n",
       "390   PINENG 10000mAh PN968 Power Bank 100% Original...  54.00  dashermart    \n",
       "1160  Xiaomi 5000/10400/10000/16000mAh Power Bank Si...   2.99  Store7teen    \n",
       "430   100% Genuine REMAX 6000mAh Super alloy Dual US...  85.90   1StopDeal    \n",
       "11    100% ORIGINAL PINENG POWERBANK POWER BANK PN95...  34.00   MMSRetail    \n",
       "10    Original Mi Ver 2 PowerBank XiaoMi 10000mAh Ve...  64.00   MMSRetail    \n",
       "\n",
       "      sold   view  \n",
       "390   1723  30014  \n",
       "1160   520   4874  \n",
       "430    339   1557  \n",
       "11     265  14844  \n",
       "10     252   9783  "
      ]
     },
     "execution_count": 262,
     "metadata": {},
     "output_type": "execute_result"
    }
   ],
   "source": [
    "#Top 5 Purchased\n",
    "df.sort_values('sold', ascending=False).head()"
   ]
  },
  {
   "cell_type": "code",
   "execution_count": 263,
   "metadata": {},
   "outputs": [
    {
     "data": {
      "text/plain": [
       "105.83569086651028"
      ]
     },
     "execution_count": 263,
     "metadata": {},
     "output_type": "execute_result"
    },
    {
     "data": {
      "image/png": "[encoded data removed]",
      "text/plain": [
       "<matplotlib.figure.Figure at 0x25043770780>"
      ]
     },
     "metadata": {},
     "output_type": "display_data"
    }
   ],
   "source": [
    "fig, ax = plt.subplots(figsize=(12,4))\n",
    "x = df.price\n",
    "plt.hist(x, facecolor='blue')\n",
    "plt.xlabel('Prices in RM')\n",
    "plt.ylabel('Frequency')\n",
    "plt.title('Prices of PowerBank in Lelong')\n",
    "\n",
    "#Can see the Price is around RM105\n",
    "df.price.mean()"
   ]
  },
  {
   "cell_type": "code",
   "execution_count": 264,
   "metadata": {},
   "outputs": [
    {
     "data": {
      "text/plain": [
       "<matplotlib.text.Text at 0x25049056e48>"
      ]
     },
     "execution_count": 264,
     "metadata": {},
     "output_type": "execute_result"
    },
    {
     "data": {
      "image/png": "[encoded data removed]",
      "text/plain": [
       "<matplotlib.figure.Figure at 0x25048fbb518>"
      ]
     },
     "metadata": {},
     "output_type": "display_data"
    }
   ],
   "source": [
    "fig, axes = plt.subplots(figsize=(10,4), dpi=100)\n",
    "x=df.price\n",
    "y=df.view\n",
    "\n",
    "axes.scatter(x,y,color='r')\n",
    "axes.set_title(\"PowerBank: View vs Prices\")\n",
    "axes.set_xlabel(\"Prices in RM\")\n",
    "axes.set_ylabel(\"View\")\n",
    "\n",
    "#More views below RM200"
   ]
  },
  {
   "cell_type": "code",
   "execution_count": 265,
   "metadata": {},
   "outputs": [
    {
     "data": {
      "text/plain": [
       "(0, 1000)"
      ]
     },
     "execution_count": 265,
     "metadata": {},
     "output_type": "execute_result"
    },
    {
     "data": {
      "image/png": "[encoded data removed]",
      "text/plain": [
       "<matplotlib.figure.Figure at 0x25044893a58>"
      ]
     },
     "metadata": {},
     "output_type": "display_data"
    }
   ],
   "source": [
    "fig, axes = plt.subplots(figsize=(10,4), dpi=100)\n",
    "x=df.price\n",
    "y=df.view\n",
    "axes.scatter(x,y,color='r')\n",
    "axes.set_title(\"PowerBank: View vs Prices\")\n",
    "axes.set_xlabel(\"Prices in RM\")\n",
    "axes.set_ylabel(\"View\")\n",
    "axes.set_xlim(0,200)\n",
    "axes.set_ylim(0,1000)\n"
   ]
  },
  {
   "cell_type": "code",
   "execution_count": 266,
   "metadata": {},
   "outputs": [
    {
     "data": {
      "text/plain": [
       "<matplotlib.text.Text at 0x25044891da0>"
      ]
     },
     "execution_count": 266,
     "metadata": {},
     "output_type": "execute_result"
    },
    {
     "data": {
      "image/png": "[encoded data removed]",
      "text/plain": [
       "<matplotlib.figure.Figure at 0x25043a7fb70>"
      ]
     },
     "metadata": {},
     "output_type": "display_data"
    }
   ],
   "source": [
    "fig, axes = plt.subplots(figsize=(10,4), dpi=100)\n",
    "x=df.price\n",
    "z=df.sold\n",
    "axes.bar(x,z,color='g')\n",
    "axes.set_title(\"PowerBank: Sold vs Prices\")\n",
    "axes.set_xlabel(\"Prices in RM\")\n",
    "axes.set_ylabel(\"Sold\")\n",
    "\n",
    "#Mostly sold around RM40-RM150"
   ]
  }
 ],
 "metadata": {
  "kernelspec": {
   "display_name": "Python 3",
   "language": "python",
   "name": "python3"
  }
 },
 "nbformat": 4,
 "nbformat_minor": 2
}
